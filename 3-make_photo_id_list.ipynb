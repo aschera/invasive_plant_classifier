{
 "cells": [
  {
   "cell_type": "code",
   "execution_count": 1,
   "metadata": {},
   "outputs": [],
   "source": [
    "import pandas as pd\n",
    "import pyarrow.parquet as pq\n",
    "from dask import dataframe as dd\n",
    "import time\n",
    "import dask.dataframe as dd\n",
    "import requests\n",
    "import os\n",
    "import dask.array as da\n",
    "import os\n",
    "import requests\n",
    "import shutil\n",
    "import dask.dataframe as dd\n",
    "import time\n"
   ]
  },
  {
   "cell_type": "markdown",
   "metadata": {},
   "source": [
    "# Taxon IDs"
   ]
  },
  {
   "cell_type": "code",
   "execution_count": 6,
   "metadata": {},
   "outputs": [
    {
     "name": "stdout",
     "output_type": "stream",
     "text": [
      "         taxon_id                        name\n",
      "14447       48059          Prosopis juliflora\n",
      "17141       47911           Asclepias syriaca\n",
      "18194       48537       Lysichiton americanus\n",
      "29238       57278         Ailanthus altissima\n",
      "33892       52714           Cortaderia jubata\n",
      "39834       77310           Gunnera tinctoria\n",
      "42074       76766           Ehrharta calycina\n",
      "43405       75433       Andropogon virginicus\n",
      "44074       79388           Triadica sebifera\n",
      "53725       84813       Baccharis halimifolia\n",
      "72928      116710       Microstegium vimineum\n",
      "106450     130228    Heracleum mantegazzianum\n",
      "133682     159852  Cardiospermum grandiflorum\n",
      "143330     164566           Lespedeza cuneata\n",
      "144557     164985          Lygodium japonicum\n",
      "298082     321137               Hakea sericea\n",
      "416825     430581           Cenchrus setaceus\n",
      "475919     499936        Heracleum sosnowskyi\n",
      "482302     516305          Heracleum persicum\n",
      "823888     876278       Microstegium vimineum\n",
      "823890     876279       Microstegium vimineum\n",
      "1257769   1293182       Andropogon virginicus\n"
     ]
    }
   ],
   "source": [
    "# Step 1: Read the taxon file and extract desired taxon IDs\n",
    "desired_taxon_ids = set()\n",
    "\n",
    "with pq.ParquetFile('taxons_data.parquet') as parquet_file:\n",
    "    num_row_groups = parquet_file.num_row_groups\n",
    "    for i in range(num_row_groups):\n",
    "        batch = parquet_file.read_row_group(i).to_pandas()\n",
    "        print(batch)\n",
    "        desired_taxon_ids.update(set(batch['taxon_id']))"
   ]
  },
  {
   "cell_type": "code",
   "execution_count": 4,
   "metadata": {},
   "outputs": [
    {
     "data": {
      "text/plain": [
       "{47911,\n",
       " 48059,\n",
       " 48537,\n",
       " 52714,\n",
       " 57278,\n",
       " 75433,\n",
       " 76766,\n",
       " 77310,\n",
       " 79388,\n",
       " 84813,\n",
       " 116710,\n",
       " 130228,\n",
       " 159852,\n",
       " 164566,\n",
       " 164985,\n",
       " 321137,\n",
       " 430581,\n",
       " 499936,\n",
       " 516305,\n",
       " 876278,\n",
       " 876279,\n",
       " 1293182}"
      ]
     },
     "execution_count": 4,
     "metadata": {},
     "output_type": "execute_result"
    }
   ],
   "source": [
    "desired_taxon_ids"
   ]
  },
  {
   "cell_type": "markdown",
   "metadata": {},
   "source": [
    "# Photos"
   ]
  },
  {
   "cell_type": "code",
   "execution_count": 5,
   "metadata": {},
   "outputs": [
    {
     "name": "stdout",
     "output_type": "stream",
     "text": [
      "Read csv with dask:  0.017539262771606445 sec\n"
     ]
    }
   ],
   "source": [
    "# large file: dask\n",
    "\n",
    "start = time.time()\n",
    "dask_photo_df = dd.read_csv('./photos.csv/photos.csv')\n",
    "end = time.time()\n",
    "print(\"Read csv with dask: \",(end-start),\"sec\")"
   ]
  },
  {
   "cell_type": "code",
   "execution_count": 6,
   "metadata": {},
   "outputs": [
    {
     "data": {
      "text/html": [
       "<div>\n",
       "<style scoped>\n",
       "    .dataframe tbody tr th:only-of-type {\n",
       "        vertical-align: middle;\n",
       "    }\n",
       "\n",
       "    .dataframe tbody tr th {\n",
       "        vertical-align: top;\n",
       "    }\n",
       "\n",
       "    .dataframe thead th {\n",
       "        text-align: right;\n",
       "    }\n",
       "</style>\n",
       "<table border=\"1\" class=\"dataframe\">\n",
       "  <thead>\n",
       "    <tr style=\"text-align: right;\">\n",
       "      <th></th>\n",
       "      <th>photo_uuid\\tphoto_id\\tobservation_uuid\\tobserver_id\\textension\\tlicense\\twidth\\theight\\tposition</th>\n",
       "    </tr>\n",
       "  </thead>\n",
       "  <tbody>\n",
       "    <tr>\n",
       "      <th>0</th>\n",
       "      <td>8d6b2534-d30a-47a8-bc1c-986a21817997\\t21213\\t7...</td>\n",
       "    </tr>\n",
       "    <tr>\n",
       "      <th>1</th>\n",
       "      <td>6e8112fd-f703-4052-94da-b7cfc03ff3d4\\t21216\\t7...</td>\n",
       "    </tr>\n",
       "    <tr>\n",
       "      <th>2</th>\n",
       "      <td>49141c2f-48b0-4671-9cee-fce6efd11822\\t21215\\t0...</td>\n",
       "    </tr>\n",
       "    <tr>\n",
       "      <th>3</th>\n",
       "      <td>71090faa-9110-4df7-bb8f-af2415fe2e72\\t21214\\t5...</td>\n",
       "    </tr>\n",
       "    <tr>\n",
       "      <th>4</th>\n",
       "      <td>92c703d0-20f1-4da9-af9c-2a6bdb6db53b\\t21217\\te...</td>\n",
       "    </tr>\n",
       "  </tbody>\n",
       "</table>\n",
       "</div>"
      ],
      "text/plain": [
       "  photo_uuid\\tphoto_id\\tobservation_uuid\\tobserver_id\\textension\\tlicense\\twidth\\theight\\tposition\n",
       "0  8d6b2534-d30a-47a8-bc1c-986a21817997\\t21213\\t7...                                              \n",
       "1  6e8112fd-f703-4052-94da-b7cfc03ff3d4\\t21216\\t7...                                              \n",
       "2  49141c2f-48b0-4671-9cee-fce6efd11822\\t21215\\t0...                                              \n",
       "3  71090faa-9110-4df7-bb8f-af2415fe2e72\\t21214\\t5...                                              \n",
       "4  92c703d0-20f1-4da9-af9c-2a6bdb6db53b\\t21217\\te...                                              "
      ]
     },
     "execution_count": 6,
     "metadata": {},
     "output_type": "execute_result"
    }
   ],
   "source": [
    "dask_photo_df.head()"
   ]
  },
  {
   "cell_type": "code",
   "execution_count": 7,
   "metadata": {},
   "outputs": [
    {
     "data": {
      "text/plain": [
       "Index(['photo_uuid\\tphoto_id\\tobservation_uuid\\tobserver_id\\textension\\tlicense\\twidth\\theight\\tposition'], dtype='object')"
      ]
     },
     "execution_count": 7,
     "metadata": {},
     "output_type": "execute_result"
    }
   ],
   "source": [
    "dask_photo_df.columns"
   ]
  },
  {
   "cell_type": "code",
   "execution_count": 8,
   "metadata": {},
   "outputs": [],
   "source": [
    "# Split the single column into multiple columns using the separator '\\t'\n",
    "dask_photos_df_split = dask_photo_df[dask_photo_df.columns[0]].str.split('\\t', n=8, expand=True)\n",
    "\n",
    "# Define column names\n",
    "column_names = ['photo_uuid', 'photo_id', 'observation_uuid', 'observer_id', 'extension', 'license', 'width', 'height', 'position']\n",
    "\n",
    "# Rename columns\n",
    "dask_photos_df_split.columns = column_names\n",
    "\n",
    "# Define meta for the taxon_id column\n",
    "meta = ('photo_id', 'float64')\n",
    "\n",
    "# Convert taxon_id to numeric using apply with meta\n",
    "dask_photos_df_split['photo_id'] = dask_photos_df_split['photo_id'].apply(pd.to_numeric, errors='coerce', meta=meta)\n",
    "\n",
    "# Drop rows with NaN in taxon_id column\n",
    "dask_photos_df_split = dask_photos_df_split.dropna(subset=['photo_id'])"
   ]
  },
  {
   "cell_type": "code",
   "execution_count": 9,
   "metadata": {},
   "outputs": [
    {
     "data": {
      "text/html": [
       "<div>\n",
       "<style scoped>\n",
       "    .dataframe tbody tr th:only-of-type {\n",
       "        vertical-align: middle;\n",
       "    }\n",
       "\n",
       "    .dataframe tbody tr th {\n",
       "        vertical-align: top;\n",
       "    }\n",
       "\n",
       "    .dataframe thead th {\n",
       "        text-align: right;\n",
       "    }\n",
       "</style>\n",
       "<table border=\"1\" class=\"dataframe\">\n",
       "  <thead>\n",
       "    <tr style=\"text-align: right;\">\n",
       "      <th></th>\n",
       "      <th>photo_uuid</th>\n",
       "      <th>photo_id</th>\n",
       "      <th>observation_uuid</th>\n",
       "      <th>observer_id</th>\n",
       "      <th>extension</th>\n",
       "      <th>license</th>\n",
       "      <th>width</th>\n",
       "      <th>height</th>\n",
       "      <th>position</th>\n",
       "    </tr>\n",
       "  </thead>\n",
       "  <tbody>\n",
       "    <tr>\n",
       "      <th>0</th>\n",
       "      <td>8d6b2534-d30a-47a8-bc1c-986a21817997</td>\n",
       "      <td>21213</td>\n",
       "      <td>7ae155fc-f49e-4e4f-91c5-51e31e805478</td>\n",
       "      <td>516</td>\n",
       "      <td>jpg</td>\n",
       "      <td>CC-BY-NC</td>\n",
       "      <td>584</td>\n",
       "      <td>389</td>\n",
       "      <td>0</td>\n",
       "    </tr>\n",
       "    <tr>\n",
       "      <th>1</th>\n",
       "      <td>6e8112fd-f703-4052-94da-b7cfc03ff3d4</td>\n",
       "      <td>21216</td>\n",
       "      <td>7ae155fc-f49e-4e4f-91c5-51e31e805478</td>\n",
       "      <td>516</td>\n",
       "      <td>jpg</td>\n",
       "      <td>CC-BY-NC</td>\n",
       "      <td>584</td>\n",
       "      <td>389</td>\n",
       "      <td>1</td>\n",
       "    </tr>\n",
       "    <tr>\n",
       "      <th>2</th>\n",
       "      <td>49141c2f-48b0-4671-9cee-fce6efd11822</td>\n",
       "      <td>21215</td>\n",
       "      <td>05baefa2-028c-4c6a-b459-37f7161ca374</td>\n",
       "      <td>516</td>\n",
       "      <td>jpg</td>\n",
       "      <td>CC-BY-NC</td>\n",
       "      <td>584</td>\n",
       "      <td>389</td>\n",
       "      <td>0</td>\n",
       "    </tr>\n",
       "    <tr>\n",
       "      <th>3</th>\n",
       "      <td>71090faa-9110-4df7-bb8f-af2415fe2e72</td>\n",
       "      <td>21214</td>\n",
       "      <td>5c63a4aa-9828-4f6f-b181-7e71b4af24fa</td>\n",
       "      <td>516</td>\n",
       "      <td>jpg</td>\n",
       "      <td>CC-BY-NC</td>\n",
       "      <td>584</td>\n",
       "      <td>389</td>\n",
       "      <td>0</td>\n",
       "    </tr>\n",
       "    <tr>\n",
       "      <th>4</th>\n",
       "      <td>92c703d0-20f1-4da9-af9c-2a6bdb6db53b</td>\n",
       "      <td>21217</td>\n",
       "      <td>e9bfdce3-556c-4506-890b-9e65d241a929</td>\n",
       "      <td>516</td>\n",
       "      <td>jpg</td>\n",
       "      <td>CC-BY-NC</td>\n",
       "      <td>584</td>\n",
       "      <td>389</td>\n",
       "      <td>0</td>\n",
       "    </tr>\n",
       "  </tbody>\n",
       "</table>\n",
       "</div>"
      ],
      "text/plain": [
       "                             photo_uuid  photo_id  \\\n",
       "0  8d6b2534-d30a-47a8-bc1c-986a21817997     21213   \n",
       "1  6e8112fd-f703-4052-94da-b7cfc03ff3d4     21216   \n",
       "2  49141c2f-48b0-4671-9cee-fce6efd11822     21215   \n",
       "3  71090faa-9110-4df7-bb8f-af2415fe2e72     21214   \n",
       "4  92c703d0-20f1-4da9-af9c-2a6bdb6db53b     21217   \n",
       "\n",
       "                       observation_uuid observer_id extension   license width  \\\n",
       "0  7ae155fc-f49e-4e4f-91c5-51e31e805478         516       jpg  CC-BY-NC   584   \n",
       "1  7ae155fc-f49e-4e4f-91c5-51e31e805478         516       jpg  CC-BY-NC   584   \n",
       "2  05baefa2-028c-4c6a-b459-37f7161ca374         516       jpg  CC-BY-NC   584   \n",
       "3  5c63a4aa-9828-4f6f-b181-7e71b4af24fa         516       jpg  CC-BY-NC   584   \n",
       "4  e9bfdce3-556c-4506-890b-9e65d241a929         516       jpg  CC-BY-NC   584   \n",
       "\n",
       "  height position  \n",
       "0    389        0  \n",
       "1    389        1  \n",
       "2    389        0  \n",
       "3    389        0  \n",
       "4    389        0  "
      ]
     },
     "execution_count": 9,
     "metadata": {},
     "output_type": "execute_result"
    }
   ],
   "source": [
    "dask_photos_df_split.head()"
   ]
  },
  {
   "cell_type": "markdown",
   "metadata": {},
   "source": [
    "# Observations"
   ]
  },
  {
   "cell_type": "code",
   "execution_count": 10,
   "metadata": {},
   "outputs": [
    {
     "name": "stdout",
     "output_type": "stream",
     "text": [
      "Read csv with dask: 0.0196378231048584 sec\n"
     ]
    }
   ],
   "source": [
    "# Read the CSV file with Dask\n",
    "start = time.time()\n",
    "dask_observations_df = dd.read_csv('./observations.csv/observations.csv/observations.csv')\n",
    "end = time.time()\n",
    "print(\"Read csv with dask:\", (end - start), \"sec\")"
   ]
  },
  {
   "cell_type": "code",
   "execution_count": 11,
   "metadata": {},
   "outputs": [
    {
     "data": {
      "text/plain": [
       "Index(['observation_uuid\\tobserver_id\\tlatitude\\tlongitude\\tpositional_accuracy\\ttaxon_id\\tquality_grade\\tobserved_on'], dtype='object')"
      ]
     },
     "execution_count": 11,
     "metadata": {},
     "output_type": "execute_result"
    }
   ],
   "source": [
    "dask_observations_df.columns"
   ]
  },
  {
   "cell_type": "code",
   "execution_count": 12,
   "metadata": {},
   "outputs": [
    {
     "data": {
      "text/html": [
       "<div>\n",
       "<style scoped>\n",
       "    .dataframe tbody tr th:only-of-type {\n",
       "        vertical-align: middle;\n",
       "    }\n",
       "\n",
       "    .dataframe tbody tr th {\n",
       "        vertical-align: top;\n",
       "    }\n",
       "\n",
       "    .dataframe thead th {\n",
       "        text-align: right;\n",
       "    }\n",
       "</style>\n",
       "<table border=\"1\" class=\"dataframe\">\n",
       "  <thead>\n",
       "    <tr style=\"text-align: right;\">\n",
       "      <th></th>\n",
       "      <th>observation_uuid\\tobserver_id\\tlatitude\\tlongitude\\tpositional_accuracy\\ttaxon_id\\tquality_grade\\tobserved_on</th>\n",
       "    </tr>\n",
       "  </thead>\n",
       "  <tbody>\n",
       "    <tr>\n",
       "      <th>0</th>\n",
       "      <td>7ae155fc-f49e-4e4f-91c5-51e31e805478\\t516\\t32....</td>\n",
       "    </tr>\n",
       "    <tr>\n",
       "      <th>1</th>\n",
       "      <td>05baefa2-028c-4c6a-b459-37f7161ca374\\t516\\t33....</td>\n",
       "    </tr>\n",
       "    <tr>\n",
       "      <th>2</th>\n",
       "      <td>5c63a4aa-9828-4f6f-b181-7e71b4af24fa\\t516\\t33....</td>\n",
       "    </tr>\n",
       "    <tr>\n",
       "      <th>3</th>\n",
       "      <td>e9bfdce3-556c-4506-890b-9e65d241a929\\t516\\t33....</td>\n",
       "    </tr>\n",
       "    <tr>\n",
       "      <th>4</th>\n",
       "      <td>19ad8eca-938a-4031-ba75-edee2749b247\\t516\\t32....</td>\n",
       "    </tr>\n",
       "  </tbody>\n",
       "</table>\n",
       "</div>"
      ],
      "text/plain": [
       "  observation_uuid\\tobserver_id\\tlatitude\\tlongitude\\tpositional_accuracy\\ttaxon_id\\tquality_grade\\tobserved_on\n",
       "0  7ae155fc-f49e-4e4f-91c5-51e31e805478\\t516\\t32....                                                           \n",
       "1  05baefa2-028c-4c6a-b459-37f7161ca374\\t516\\t33....                                                           \n",
       "2  5c63a4aa-9828-4f6f-b181-7e71b4af24fa\\t516\\t33....                                                           \n",
       "3  e9bfdce3-556c-4506-890b-9e65d241a929\\t516\\t33....                                                           \n",
       "4  19ad8eca-938a-4031-ba75-edee2749b247\\t516\\t32....                                                           "
      ]
     },
     "execution_count": 12,
     "metadata": {},
     "output_type": "execute_result"
    }
   ],
   "source": [
    "dask_observations_df.head()"
   ]
  },
  {
   "cell_type": "code",
   "execution_count": 13,
   "metadata": {},
   "outputs": [],
   "source": [
    "# Split the single column into multiple columns using the separator '\\t'\n",
    "dask_observation_df_split = dask_observations_df[dask_observations_df.columns[0]].str.split('\\t', n=7, expand=True)\n",
    "\n",
    "# Define column names\n",
    "column_names = ['observation_uuid', 'observer_id', 'latitude', 'longitude', 'positional_accuracy', 'taxon_id', 'quality_grade', 'observed_on']\n",
    "\n",
    "# Rename columns\n",
    "dask_observation_df_split.columns = column_names\n",
    "\n",
    "# Define meta for the taxon_id column\n",
    "meta = ('taxon_id', 'float64')\n",
    "\n",
    "# Convert taxon_id to numeric using apply with meta\n",
    "dask_observation_df_split['taxon_id'] = dask_observation_df_split['taxon_id'].apply(pd.to_numeric, errors='coerce', meta=meta)\n",
    "\n",
    "# Drop rows with NaN in taxon_id column\n",
    "dask_observation_df_split = dask_observation_df_split.dropna(subset=['taxon_id'])"
   ]
  },
  {
   "cell_type": "code",
   "execution_count": 14,
   "metadata": {},
   "outputs": [],
   "source": [
    "dask_observation_df_split['taxon_id'] = dask_observation_df_split['taxon_id'].astype(int)"
   ]
  },
  {
   "cell_type": "code",
   "execution_count": 15,
   "metadata": {},
   "outputs": [
    {
     "data": {
      "text/html": [
       "<div>\n",
       "<style scoped>\n",
       "    .dataframe tbody tr th:only-of-type {\n",
       "        vertical-align: middle;\n",
       "    }\n",
       "\n",
       "    .dataframe tbody tr th {\n",
       "        vertical-align: top;\n",
       "    }\n",
       "\n",
       "    .dataframe thead th {\n",
       "        text-align: right;\n",
       "    }\n",
       "</style>\n",
       "<table border=\"1\" class=\"dataframe\">\n",
       "  <thead>\n",
       "    <tr style=\"text-align: right;\">\n",
       "      <th></th>\n",
       "      <th>observation_uuid</th>\n",
       "      <th>observer_id</th>\n",
       "      <th>latitude</th>\n",
       "      <th>longitude</th>\n",
       "      <th>positional_accuracy</th>\n",
       "      <th>taxon_id</th>\n",
       "      <th>quality_grade</th>\n",
       "      <th>observed_on</th>\n",
       "    </tr>\n",
       "  </thead>\n",
       "  <tbody>\n",
       "    <tr>\n",
       "      <th>0</th>\n",
       "      <td>7ae155fc-f49e-4e4f-91c5-51e31e805478</td>\n",
       "      <td>516</td>\n",
       "      <td>32.1899345177</td>\n",
       "      <td>-80.7584837079</td>\n",
       "      <td></td>\n",
       "      <td>203485</td>\n",
       "      <td>research</td>\n",
       "      <td>2009-10-31</td>\n",
       "    </tr>\n",
       "    <tr>\n",
       "      <th>1</th>\n",
       "      <td>05baefa2-028c-4c6a-b459-37f7161ca374</td>\n",
       "      <td>516</td>\n",
       "      <td>33.4306088000</td>\n",
       "      <td>-111.0270616000</td>\n",
       "      <td></td>\n",
       "      <td>153887</td>\n",
       "      <td>research</td>\n",
       "      <td>2009-08-15</td>\n",
       "    </tr>\n",
       "    <tr>\n",
       "      <th>2</th>\n",
       "      <td>5c63a4aa-9828-4f6f-b181-7e71b4af24fa</td>\n",
       "      <td>516</td>\n",
       "      <td>33.4047428829</td>\n",
       "      <td>-111.9373476505</td>\n",
       "      <td></td>\n",
       "      <td>313499</td>\n",
       "      <td>research</td>\n",
       "      <td>2009-08-22</td>\n",
       "    </tr>\n",
       "    <tr>\n",
       "      <th>3</th>\n",
       "      <td>e9bfdce3-556c-4506-890b-9e65d241a929</td>\n",
       "      <td>516</td>\n",
       "      <td>33.4306088000</td>\n",
       "      <td>-111.0270616000</td>\n",
       "      <td></td>\n",
       "      <td>790491</td>\n",
       "      <td>research</td>\n",
       "      <td>2009-08-15</td>\n",
       "    </tr>\n",
       "    <tr>\n",
       "      <th>4</th>\n",
       "      <td>19ad8eca-938a-4031-ba75-edee2749b247</td>\n",
       "      <td>516</td>\n",
       "      <td>32.2163160000</td>\n",
       "      <td>-80.7526080000</td>\n",
       "      <td></td>\n",
       "      <td>48505</td>\n",
       "      <td>research</td>\n",
       "      <td>2007-10-31</td>\n",
       "    </tr>\n",
       "  </tbody>\n",
       "</table>\n",
       "</div>"
      ],
      "text/plain": [
       "                       observation_uuid observer_id       latitude  \\\n",
       "0  7ae155fc-f49e-4e4f-91c5-51e31e805478         516  32.1899345177   \n",
       "1  05baefa2-028c-4c6a-b459-37f7161ca374         516  33.4306088000   \n",
       "2  5c63a4aa-9828-4f6f-b181-7e71b4af24fa         516  33.4047428829   \n",
       "3  e9bfdce3-556c-4506-890b-9e65d241a929         516  33.4306088000   \n",
       "4  19ad8eca-938a-4031-ba75-edee2749b247         516  32.2163160000   \n",
       "\n",
       "         longitude positional_accuracy  taxon_id quality_grade observed_on  \n",
       "0   -80.7584837079                        203485      research  2009-10-31  \n",
       "1  -111.0270616000                        153887      research  2009-08-15  \n",
       "2  -111.9373476505                        313499      research  2009-08-22  \n",
       "3  -111.0270616000                        790491      research  2009-08-15  \n",
       "4   -80.7526080000                         48505      research  2007-10-31  "
      ]
     },
     "execution_count": 15,
     "metadata": {},
     "output_type": "execute_result"
    }
   ],
   "source": [
    "dask_observation_df_split.head()"
   ]
  },
  {
   "cell_type": "markdown",
   "metadata": {},
   "source": [
    "# Download"
   ]
  },
  {
   "cell_type": "markdown",
   "metadata": {},
   "source": [
    "### All the taxons we want"
   ]
  },
  {
   "cell_type": "code",
   "execution_count": 16,
   "metadata": {},
   "outputs": [],
   "source": [
    "taxon_observations_df = dask_observation_df_split[dask_observation_df_split['taxon_id'].isin(desired_taxon_ids)]"
   ]
  },
  {
   "cell_type": "code",
   "execution_count": 17,
   "metadata": {},
   "outputs": [
    {
     "data": {
      "text/html": [
       "<div>\n",
       "<style scoped>\n",
       "    .dataframe tbody tr th:only-of-type {\n",
       "        vertical-align: middle;\n",
       "    }\n",
       "\n",
       "    .dataframe tbody tr th {\n",
       "        vertical-align: top;\n",
       "    }\n",
       "\n",
       "    .dataframe thead th {\n",
       "        text-align: right;\n",
       "    }\n",
       "</style>\n",
       "<table border=\"1\" class=\"dataframe\">\n",
       "  <thead>\n",
       "    <tr style=\"text-align: right;\">\n",
       "      <th></th>\n",
       "      <th>observation_uuid</th>\n",
       "      <th>observer_id</th>\n",
       "      <th>latitude</th>\n",
       "      <th>longitude</th>\n",
       "      <th>positional_accuracy</th>\n",
       "      <th>taxon_id</th>\n",
       "      <th>quality_grade</th>\n",
       "      <th>observed_on</th>\n",
       "    </tr>\n",
       "  </thead>\n",
       "  <tbody>\n",
       "    <tr>\n",
       "      <th>1806</th>\n",
       "      <td>f56b4072-7a0d-40c1-b5fb-2f999cd47b44</td>\n",
       "      <td>343</td>\n",
       "      <td>47.9133110000</td>\n",
       "      <td>-122.4231050000</td>\n",
       "      <td></td>\n",
       "      <td>48537</td>\n",
       "      <td>research</td>\n",
       "      <td>2011-04-10</td>\n",
       "    </tr>\n",
       "    <tr>\n",
       "      <th>2024</th>\n",
       "      <td>da3cde42-e9b6-4b31-8467-d8ed8b9c418e</td>\n",
       "      <td>1</td>\n",
       "      <td>37.2087478638</td>\n",
       "      <td>-122.3335647583</td>\n",
       "      <td>76</td>\n",
       "      <td>48537</td>\n",
       "      <td>research</td>\n",
       "      <td>2011-04-19</td>\n",
       "    </tr>\n",
       "    <tr>\n",
       "      <th>7291</th>\n",
       "      <td>c85e1378-4fcf-4e8d-8219-e567e4043c32</td>\n",
       "      <td>2179</td>\n",
       "      <td>43.8687553406</td>\n",
       "      <td>-73.1087875366</td>\n",
       "      <td>10</td>\n",
       "      <td>47911</td>\n",
       "      <td>research</td>\n",
       "      <td>2011-08-21</td>\n",
       "    </tr>\n",
       "    <tr>\n",
       "      <th>7721</th>\n",
       "      <td>00468f3e-92ad-4a7d-b3d9-0622f34566c9</td>\n",
       "      <td>2179</td>\n",
       "      <td>44.0239821705</td>\n",
       "      <td>-73.1925539733</td>\n",
       "      <td></td>\n",
       "      <td>47911</td>\n",
       "      <td>research</td>\n",
       "      <td>2011-09-06</td>\n",
       "    </tr>\n",
       "    <tr>\n",
       "      <th>8281</th>\n",
       "      <td>7421f879-8d6e-4a3f-a3ea-a36730d93396</td>\n",
       "      <td>477</td>\n",
       "      <td>37.6891250610</td>\n",
       "      <td>-122.4411163330</td>\n",
       "      <td>50</td>\n",
       "      <td>52714</td>\n",
       "      <td>research</td>\n",
       "      <td>2011-09-17</td>\n",
       "    </tr>\n",
       "  </tbody>\n",
       "</table>\n",
       "</div>"
      ],
      "text/plain": [
       "                          observation_uuid observer_id       latitude  \\\n",
       "1806  f56b4072-7a0d-40c1-b5fb-2f999cd47b44         343  47.9133110000   \n",
       "2024  da3cde42-e9b6-4b31-8467-d8ed8b9c418e           1  37.2087478638   \n",
       "7291  c85e1378-4fcf-4e8d-8219-e567e4043c32        2179  43.8687553406   \n",
       "7721  00468f3e-92ad-4a7d-b3d9-0622f34566c9        2179  44.0239821705   \n",
       "8281  7421f879-8d6e-4a3f-a3ea-a36730d93396         477  37.6891250610   \n",
       "\n",
       "            longitude positional_accuracy  taxon_id quality_grade observed_on  \n",
       "1806  -122.4231050000                         48537      research  2011-04-10  \n",
       "2024  -122.3335647583                  76     48537      research  2011-04-19  \n",
       "7291   -73.1087875366                  10     47911      research  2011-08-21  \n",
       "7721   -73.1925539733                         47911      research  2011-09-06  \n",
       "8281  -122.4411163330                  50     52714      research  2011-09-17  "
      ]
     },
     "execution_count": 17,
     "metadata": {},
     "output_type": "execute_result"
    }
   ],
   "source": [
    "taxon_observations_df.head(5)"
   ]
  },
  {
   "cell_type": "markdown",
   "metadata": {},
   "source": [
    "### The images with the columns we want"
   ]
  },
  {
   "cell_type": "code",
   "execution_count": 18,
   "metadata": {},
   "outputs": [],
   "source": [
    "# Select only the required columns from the photo DataFrame\n",
    "filtered_photos_df = dask_photos_df_split[['photo_id', 'photo_uuid', 'observation_uuid', 'extension']]"
   ]
  },
  {
   "cell_type": "code",
   "execution_count": 19,
   "metadata": {},
   "outputs": [
    {
     "data": {
      "text/html": [
       "<div>\n",
       "<style scoped>\n",
       "    .dataframe tbody tr th:only-of-type {\n",
       "        vertical-align: middle;\n",
       "    }\n",
       "\n",
       "    .dataframe tbody tr th {\n",
       "        vertical-align: top;\n",
       "    }\n",
       "\n",
       "    .dataframe thead th {\n",
       "        text-align: right;\n",
       "    }\n",
       "</style>\n",
       "<table border=\"1\" class=\"dataframe\">\n",
       "  <thead>\n",
       "    <tr style=\"text-align: right;\">\n",
       "      <th></th>\n",
       "      <th>photo_id</th>\n",
       "      <th>photo_uuid</th>\n",
       "      <th>observation_uuid</th>\n",
       "      <th>extension</th>\n",
       "    </tr>\n",
       "  </thead>\n",
       "  <tbody>\n",
       "    <tr>\n",
       "      <th>0</th>\n",
       "      <td>21213</td>\n",
       "      <td>8d6b2534-d30a-47a8-bc1c-986a21817997</td>\n",
       "      <td>7ae155fc-f49e-4e4f-91c5-51e31e805478</td>\n",
       "      <td>jpg</td>\n",
       "    </tr>\n",
       "    <tr>\n",
       "      <th>1</th>\n",
       "      <td>21216</td>\n",
       "      <td>6e8112fd-f703-4052-94da-b7cfc03ff3d4</td>\n",
       "      <td>7ae155fc-f49e-4e4f-91c5-51e31e805478</td>\n",
       "      <td>jpg</td>\n",
       "    </tr>\n",
       "    <tr>\n",
       "      <th>2</th>\n",
       "      <td>21215</td>\n",
       "      <td>49141c2f-48b0-4671-9cee-fce6efd11822</td>\n",
       "      <td>05baefa2-028c-4c6a-b459-37f7161ca374</td>\n",
       "      <td>jpg</td>\n",
       "    </tr>\n",
       "    <tr>\n",
       "      <th>3</th>\n",
       "      <td>21214</td>\n",
       "      <td>71090faa-9110-4df7-bb8f-af2415fe2e72</td>\n",
       "      <td>5c63a4aa-9828-4f6f-b181-7e71b4af24fa</td>\n",
       "      <td>jpg</td>\n",
       "    </tr>\n",
       "    <tr>\n",
       "      <th>4</th>\n",
       "      <td>21217</td>\n",
       "      <td>92c703d0-20f1-4da9-af9c-2a6bdb6db53b</td>\n",
       "      <td>e9bfdce3-556c-4506-890b-9e65d241a929</td>\n",
       "      <td>jpg</td>\n",
       "    </tr>\n",
       "  </tbody>\n",
       "</table>\n",
       "</div>"
      ],
      "text/plain": [
       "   photo_id                            photo_uuid  \\\n",
       "0     21213  8d6b2534-d30a-47a8-bc1c-986a21817997   \n",
       "1     21216  6e8112fd-f703-4052-94da-b7cfc03ff3d4   \n",
       "2     21215  49141c2f-48b0-4671-9cee-fce6efd11822   \n",
       "3     21214  71090faa-9110-4df7-bb8f-af2415fe2e72   \n",
       "4     21217  92c703d0-20f1-4da9-af9c-2a6bdb6db53b   \n",
       "\n",
       "                       observation_uuid extension  \n",
       "0  7ae155fc-f49e-4e4f-91c5-51e31e805478       jpg  \n",
       "1  7ae155fc-f49e-4e4f-91c5-51e31e805478       jpg  \n",
       "2  05baefa2-028c-4c6a-b459-37f7161ca374       jpg  \n",
       "3  5c63a4aa-9828-4f6f-b181-7e71b4af24fa       jpg  \n",
       "4  e9bfdce3-556c-4506-890b-9e65d241a929       jpg  "
      ]
     },
     "execution_count": 19,
     "metadata": {},
     "output_type": "execute_result"
    }
   ],
   "source": [
    "filtered_photos_df.head(5)"
   ]
  },
  {
   "cell_type": "markdown",
   "metadata": {},
   "source": [
    "### The observations"
   ]
  },
  {
   "cell_type": "code",
   "execution_count": 20,
   "metadata": {},
   "outputs": [],
   "source": [
    "# Select only the required columns from the observation DataFrame\n",
    "filtered_observation_df = dask_observation_df_split[['observation_uuid', 'taxon_id']]"
   ]
  },
  {
   "cell_type": "code",
   "execution_count": 21,
   "metadata": {},
   "outputs": [
    {
     "data": {
      "text/html": [
       "<div>\n",
       "<style scoped>\n",
       "    .dataframe tbody tr th:only-of-type {\n",
       "        vertical-align: middle;\n",
       "    }\n",
       "\n",
       "    .dataframe tbody tr th {\n",
       "        vertical-align: top;\n",
       "    }\n",
       "\n",
       "    .dataframe thead th {\n",
       "        text-align: right;\n",
       "    }\n",
       "</style>\n",
       "<table border=\"1\" class=\"dataframe\">\n",
       "  <thead>\n",
       "    <tr style=\"text-align: right;\">\n",
       "      <th></th>\n",
       "      <th>observation_uuid</th>\n",
       "      <th>taxon_id</th>\n",
       "    </tr>\n",
       "  </thead>\n",
       "  <tbody>\n",
       "    <tr>\n",
       "      <th>0</th>\n",
       "      <td>7ae155fc-f49e-4e4f-91c5-51e31e805478</td>\n",
       "      <td>203485</td>\n",
       "    </tr>\n",
       "    <tr>\n",
       "      <th>1</th>\n",
       "      <td>05baefa2-028c-4c6a-b459-37f7161ca374</td>\n",
       "      <td>153887</td>\n",
       "    </tr>\n",
       "    <tr>\n",
       "      <th>2</th>\n",
       "      <td>5c63a4aa-9828-4f6f-b181-7e71b4af24fa</td>\n",
       "      <td>313499</td>\n",
       "    </tr>\n",
       "    <tr>\n",
       "      <th>3</th>\n",
       "      <td>e9bfdce3-556c-4506-890b-9e65d241a929</td>\n",
       "      <td>790491</td>\n",
       "    </tr>\n",
       "    <tr>\n",
       "      <th>4</th>\n",
       "      <td>19ad8eca-938a-4031-ba75-edee2749b247</td>\n",
       "      <td>48505</td>\n",
       "    </tr>\n",
       "  </tbody>\n",
       "</table>\n",
       "</div>"
      ],
      "text/plain": [
       "                       observation_uuid  taxon_id\n",
       "0  7ae155fc-f49e-4e4f-91c5-51e31e805478    203485\n",
       "1  05baefa2-028c-4c6a-b459-37f7161ca374    153887\n",
       "2  5c63a4aa-9828-4f6f-b181-7e71b4af24fa    313499\n",
       "3  e9bfdce3-556c-4506-890b-9e65d241a929    790491\n",
       "4  19ad8eca-938a-4031-ba75-edee2749b247     48505"
      ]
     },
     "execution_count": 21,
     "metadata": {},
     "output_type": "execute_result"
    }
   ],
   "source": [
    "filtered_observation_df.head(5)"
   ]
  },
  {
   "cell_type": "markdown",
   "metadata": {},
   "source": [
    "### Group photos per observation"
   ]
  },
  {
   "cell_type": "code",
   "execution_count": 22,
   "metadata": {},
   "outputs": [],
   "source": [
    "# sample 10% of your data\n",
    "subset_filtered_photos_df = filtered_photos_df.sample(frac=0.1, random_state=42) \n",
    "\n",
    "# Group photos by observation_uuid and aggregate them on the subset\n",
    "grouped_photos_df = subset_filtered_photos_df.groupby('observation_uuid').agg({\n",
    "    'photo_id': 'list',\n",
    "    'photo_uuid': 'list',\n",
    "    'extension': 'list'\n",
    "}).reset_index()\n"
   ]
  },
  {
   "cell_type": "code",
   "execution_count": 23,
   "metadata": {},
   "outputs": [],
   "source": [
    "grouped_photos_df.head(5)"
   ]
  },
  {
   "cell_type": "code",
   "execution_count": null,
   "metadata": {},
   "outputs": [],
   "source": [
    "# Merge the filtered observation DataFrame with the grouped photo DataFrame\n",
    "merged_df = dd.merge(grouped_photos_df, filtered_observation_df, on='observation_uuid', how='inner')"
   ]
  },
  {
   "cell_type": "code",
   "execution_count": null,
   "metadata": {},
   "outputs": [],
   "source": [
    "merged_df.head(5)"
   ]
  },
  {
   "cell_type": "code",
   "execution_count": null,
   "metadata": {},
   "outputs": [],
   "source": [
    "# Select only the required columns from the merged DataFrame\n",
    "result_df = merged_df[['photo_id', 'photo_uuid', 'extension', 'observation_uuid', 'taxon_id']]"
   ]
  },
  {
   "cell_type": "code",
   "execution_count": null,
   "metadata": {},
   "outputs": [],
   "source": [
    "result_df.head(5)"
   ]
  },
  {
   "cell_type": "code",
   "execution_count": null,
   "metadata": {},
   "outputs": [],
   "source": [
    "unique_taxon_ids = result_df['taxon_id'].unique().compute()"
   ]
  },
  {
   "cell_type": "code",
   "execution_count": null,
   "metadata": {},
   "outputs": [],
   "source": [
    "first_taxon_id = unique_taxon_ids[0]  # Assuming you've already computed unique_taxon_ids\n",
    "\n",
    "rows_with_first_taxon_id = result_df[result_df['taxon_id'] == first_taxon_id].compute()"
   ]
  },
  {
   "cell_type": "code",
   "execution_count": null,
   "metadata": {},
   "outputs": [],
   "source": [
    "# Compute the result DataFrame: takes a very very long time to compute\n",
    "# result_df = result_df.compute()"
   ]
  },
  {
   "cell_type": "code",
   "execution_count": null,
   "metadata": {},
   "outputs": [],
   "source": [
    "# Save the result DataFrame to a CSV file: takes a very very long time to compute\n",
    "# result_df.to_csv('result_df*.csv', single_file=False)"
   ]
  },
  {
   "cell_type": "code",
   "execution_count": null,
   "metadata": {},
   "outputs": [],
   "source": [
    "# Group the data by 'taxon_id'\n",
    "# grouped_data = result_df.groupby('taxon_id')"
   ]
  },
  {
   "cell_type": "code",
   "execution_count": null,
   "metadata": {},
   "outputs": [],
   "source": [
    "n = 30\n",
    "\n",
    "# Define a function to save the CSV file for each taxon\n",
    "def save_taxon_csv(group):\n",
    "    taxon_id = group.name\n",
    "    folder_name = f\"{taxon_id}\"\n",
    "    os.makedirs(folder_name, exist_ok=True)  # Create a folder for the taxon\n",
    "    \n",
    "    \n",
    "    # Save the list of photo IDs to a CSV file\n",
    "    group[['photo_id']].to_csv(os.path.join(folder_name,  f\"{taxon_id}_photo_list.csv\"), index=False)\n",
    "\n",
    "# Apply the function to each group and compute the result\n",
    "# grouped_data.apply(save_taxon_csv).compute()"
   ]
  }
 ],
 "metadata": {
  "kernelspec": {
   "display_name": "ailab",
   "language": "python",
   "name": "python3"
  },
  "language_info": {
   "codemirror_mode": {
    "name": "ipython",
    "version": 3
   },
   "file_extension": ".py",
   "mimetype": "text/x-python",
   "name": "python",
   "nbconvert_exporter": "python",
   "pygments_lexer": "ipython3",
   "version": "3.7.12"
  }
 },
 "nbformat": 4,
 "nbformat_minor": 2
}

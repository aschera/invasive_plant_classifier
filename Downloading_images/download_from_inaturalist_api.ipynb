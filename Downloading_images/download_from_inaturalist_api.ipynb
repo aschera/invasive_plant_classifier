{
 "cells": [
  {
   "cell_type": "code",
   "execution_count": 70,
   "metadata": {},
   "outputs": [],
   "source": [
    "import os\n",
    "import requests\n",
    "import json\n",
    "import requests\n",
    "import os\n",
    "from urllib.parse import urlparse"
   ]
  },
  {
   "cell_type": "code",
   "execution_count": 75,
   "metadata": {},
   "outputs": [],
   "source": [
    "destination_folder = \"../data/downloaded\"  # Folder where you want to save the image\n",
    "\n",
    "# How many images for each psecies\n",
    "count_per_species = 1000\n",
    "\n",
    "# Specify the species name\n",
    "species_name = \"Impatiens glandulifera\""
   ]
  },
  {
   "cell_type": "code",
   "execution_count": 76,
   "metadata": {},
   "outputs": [],
   "source": [
    "def save_image_from_url(url, id):\n",
    "    try:\n",
    "        response = requests.get(url)\n",
    "        if response.status_code == 200:\n",
    "            file_path = os.path.join(destination_folder, f\"{id}.jpg\")\n",
    "            with open(file_path, 'wb') as f:\n",
    "                f.write(response.content)\n",
    "            # print(f\"Image saved as: {file_path}\")\n",
    "            return True\n",
    "        else:\n",
    "            print(\"Failed to download image: HTTP status code\", response.status_code)\n",
    "            return False\n",
    "    except Exception as e:\n",
    "        print(\"An error occurred:\", str(e))\n",
    "        return False"
   ]
  },
  {
   "cell_type": "code",
   "execution_count": 77,
   "metadata": {},
   "outputs": [],
   "source": [
    "def fetch_photos_for_species(species_name):\n",
    "    # Check the destination folder for existing files\n",
    "    existing_files = [f for f in os.listdir(destination_folder) if os.path.isfile(os.path.join(destination_folder, f))]\n",
    "    existing_files_count = len(existing_files)\n",
    "    print(f\"Existing files in the folder: {existing_files_count}\")\n",
    "\n",
    "    # Proceed with fetching photos only if the existing files count is less than the desired count_per_species\n",
    "    remaining_count = count_per_species - existing_files_count\n",
    "    if remaining_count <= 0:\n",
    "        print(\"Desired image count already reached. No need to fetch more.\")\n",
    "        return\n",
    "    elif remaining_count < count_per_species:\n",
    "        print(f\"Need to fetch {remaining_count} more images.\")\n",
    "\n",
    "    api_url = f\"https://api.inaturalist.org/v1/observations?q={species_name}\"\n",
    "    total_images_saved = 0\n",
    "\n",
    "    try:\n",
    "        page = 1\n",
    "        while total_images_saved < count_per_species:\n",
    "            response = requests.get(api_url + f\"&page={page}\")\n",
    "            print('page')\n",
    "            print(page)\n",
    "            \n",
    "            if response.status_code == 200:\n",
    "                data = response.json()\n",
    "                results = data.get('results', [])\n",
    "                if not results:\n",
    "                    break\n",
    "                \n",
    "                for observation in results:\n",
    "                    observation_id = observation['id']\n",
    "                    if observation.get('observation_photos'):\n",
    "                        for obs_photo in observation['observation_photos']:\n",
    "                            photo_id = obs_photo['photo']['id'] \n",
    "                            photo_url = obs_photo['photo']['url']\n",
    "                            if photo_url:\n",
    "                                saved = save_image_from_url(photo_url, photo_id)\n",
    "                                if saved:\n",
    "                                    total_images_saved += 1\n",
    "                                    if total_images_saved >= count_per_species:\n",
    "                                        break\n",
    "                            else:\n",
    "                                print(f\"No photo URL found for photo ID: {photo_id}\")\n",
    "                        if total_images_saved >= count_per_species:\n",
    "                            break\n",
    "                        for ex_photo in observation.get('photos', []):\n",
    "                            ex_photo_id = ex_photo['id'] \n",
    "                            ex_photo_url = ex_photo['url']\n",
    "                            if ex_photo_url:\n",
    "                                saved = save_image_from_url(ex_photo_url, ex_photo_id)\n",
    "                                if saved:\n",
    "                                    total_images_saved += 1\n",
    "                                    if total_images_saved >= count_per_species:\n",
    "                                        break\n",
    "                            else:\n",
    "                                print(f\"No photo URL found for photo ID: {photo_id}\")\n",
    "                        if total_images_saved >= count_per_species:\n",
    "                            break\n",
    "                    else:\n",
    "                        print(f\"No photos found for observation ID: {observation_id}\")\n",
    "                    if total_images_saved >= count_per_species:\n",
    "                        break\n",
    "                page += 1\n",
    "            else:\n",
    "                print(f\"Error fetching data from iNaturalist API. Status code: {response.status_code}\")\n",
    "                break\n",
    "\n",
    "        print(f\"Total unique images saved: {total_images_saved}\")\n",
    "    except Exception as e:\n",
    "        print(f\"An error occurred: {str(e)}\")"
   ]
  },
  {
   "cell_type": "code",
   "execution_count": 78,
   "metadata": {},
   "outputs": [
    {
     "name": "stdout",
     "output_type": "stream",
     "text": [
      "Existing files in the folder: 1301\n",
      "Desired image count already reached. No need to fetch more.\n"
     ]
    }
   ],
   "source": [
    "# Fetch and download photos for the specified species\n",
    "fetch_photos_for_species(species_name)"
   ]
  }
 ],
 "metadata": {
  "kernelspec": {
   "display_name": "ailab",
   "language": "python",
   "name": "python3"
  },
  "language_info": {
   "codemirror_mode": {
    "name": "ipython",
    "version": 3
   },
   "file_extension": ".py",
   "mimetype": "text/x-python",
   "name": "python",
   "nbconvert_exporter": "python",
   "pygments_lexer": "ipython3",
   "version": "3.7.12"
  }
 },
 "nbformat": 4,
 "nbformat_minor": 2
}

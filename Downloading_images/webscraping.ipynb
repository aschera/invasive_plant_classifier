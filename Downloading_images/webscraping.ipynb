{
 "cells": [
  {
   "cell_type": "code",
   "execution_count": 13,
   "metadata": {},
   "outputs": [],
   "source": [
    "from bs4 import BeautifulSoup\n",
    "import os\n",
    "from bs4 import BeautifulSoup\n",
    "import os\n",
    "import requests"
   ]
  },
  {
   "cell_type": "code",
   "execution_count": 14,
   "metadata": {},
   "outputs": [],
   "source": [
    "# https://www.inaturalist.org/taxa/ID"
   ]
  },
  {
   "cell_type": "code",
   "execution_count": 15,
   "metadata": {},
   "outputs": [
    {
     "data": {
      "text/plain": [
       "'      \\n            84813,\\n            116710,\\n            130228,\\n            159852,\\n            164566,\\n            164985,\\n            321137,\\n            430581,\\n            499936,\\n            516305,\\n            876278,\\n            876279,\\n\\n'"
      ]
     },
     "execution_count": 15,
     "metadata": {},
     "output_type": "execute_result"
    }
   ],
   "source": [
    "taxon_ids = [ 1493141, 47911, 1293182, 48537, 52714, 57278, 75433, 76766, 77310, 79388]\n",
    "\n",
    "\n",
    "'''      \n",
    "            84813,\n",
    "            116710,\n",
    "            130228,\n",
    "            159852,\n",
    "            164566,\n",
    "            164985,\n",
    "            321137,\n",
    "            430581,\n",
    "            499936,\n",
    "            516305,\n",
    "            876278,\n",
    "            876279,\n",
    "\n",
    "'''\n",
    "\n",
    "\n",
    "\n",
    "# new: 1493141-Neltuma-juliflora \n",
    "# inactive:  48059 Prosopis juliflora\n",
    "\n",
    "# "
   ]
  },
  {
   "cell_type": "code",
   "execution_count": 17,
   "metadata": {},
   "outputs": [
    {
     "name": "stdout",
     "output_type": "stream",
     "text": [
      "All images for Taxon ID 1493141 already exist. Skipping...\n",
      "All images for Taxon ID 47911 already exist. Skipping...\n",
      "All images for Taxon ID 1293182 already exist. Skipping...\n",
      "All images for Taxon ID 48537 already exist. Skipping...\n",
      "All images for Taxon ID 52714 already exist. Skipping...\n",
      "All images for Taxon ID 57278 already exist. Skipping...\n",
      "All images for Taxon ID 75433 already exist. Skipping...\n",
      "All images for Taxon ID 76766 already exist. Skipping...\n",
      "All images for Taxon ID 77310 already exist. Skipping...\n",
      "All images for Taxon ID 79388 already exist. Skipping...\n"
     ]
    }
   ],
   "source": [
    "# Function to extract image URLs and image IDs from HTML file\n",
    "def extract_image_info(html_file):\n",
    "    with open(html_file, \"r\", encoding=\"utf-8\") as file:\n",
    "        html_content = file.read()\n",
    "    \n",
    "    soup = BeautifulSoup(html_content, \"html.parser\")\n",
    "    image_divs = soup.find_all(\"div\", class_=\"CoverImage low undefined loaded\")\n",
    "    \n",
    "    image_info = []\n",
    "    for div in image_divs:\n",
    "        style_attr = div.get(\"style\")\n",
    "        if style_attr:\n",
    "            url_start_index = style_attr.find(\"url(\") + len(\"url(\")\n",
    "            url_end_index = style_attr.find(\")\")\n",
    "            image_url = style_attr[url_start_index:url_end_index].strip('\"')\n",
    "            \n",
    "            # Extract image ID from URL\n",
    "            second_last_slash_index = image_url.rfind(\"/\", 0, image_url.rfind(\"/\"))  # Find the index of the second to last slash\n",
    "            image_id = image_url[second_last_slash_index + 1:image_url.rfind(\"/\")]  # Extract the substring between the second to last slash and the last slash\n",
    "\n",
    "            image_info.append((image_url, image_id))\n",
    "    \n",
    "    return image_info\n",
    "\n",
    "# Function to check if all images for a taxon exist in the folder\n",
    "def check_images_exist(image_info, taxon_id):\n",
    "    taxon_folder = f\"./data/{taxon_id}\"\n",
    "    if not os.path.exists(taxon_folder):\n",
    "        return False\n",
    "    \n",
    "    num_existing_images = len([file for file in os.listdir(taxon_folder) if file.endswith(\".jpg\")])\n",
    "    num_total_images = len(image_info)\n",
    "    \n",
    "    return num_existing_images == num_total_images\n",
    "\n",
    "# Function to download and save images\n",
    "def download_and_save_images(image_info, taxon_id):\n",
    "    print(f\"Downloading images for Taxon ID {taxon_id}. Total images: {len(image_info)}\")\n",
    "    \n",
    "    for url, image_id in image_info:\n",
    "        # Create folder for taxon id if it doesn't exist\n",
    "        taxon_folder = f\"./data/{taxon_id}\"\n",
    "        if not os.path.exists(taxon_folder):\n",
    "            os.makedirs(taxon_folder)\n",
    "\n",
    "        # Download and save the image if it doesn't exist already\n",
    "        image_path = f\"{taxon_folder}/{image_id}.jpg\"\n",
    "        if not os.path.exists(image_path):\n",
    "            with open(image_path, 'wb') as f:\n",
    "                f.write(requests.get(url).content)\n",
    "\n",
    "# Loop through each taxon id\n",
    "for taxon_id in taxon_ids:\n",
    "    # Construct the filename for the HTML file\n",
    "    html_file = f\"./data/websites/{taxon_id}.html\"\n",
    "    \n",
    "    # Check if the HTML file exists\n",
    "    if os.path.exists(html_file):\n",
    "        # Extract image URLs and image IDs from the HTML file\n",
    "        image_info = extract_image_info(html_file)\n",
    "        \n",
    "        # Check if all images for the taxon already exist\n",
    "        if check_images_exist(image_info, taxon_id):\n",
    "            print(f\"All images for Taxon ID {taxon_id} already exist. Skipping...\")\n",
    "        else:\n",
    "            # Download and save images\n",
    "            download_and_save_images(image_info, taxon_id)\n",
    "    else:\n",
    "        print(f\"HTML file for Taxon ID {taxon_id} does not exist.\")"
   ]
  }
 ],
 "metadata": {
  "kernelspec": {
   "display_name": "ailab",
   "language": "python",
   "name": "python3"
  },
  "language_info": {
   "codemirror_mode": {
    "name": "ipython",
    "version": 3
   },
   "file_extension": ".py",
   "mimetype": "text/x-python",
   "name": "python",
   "nbconvert_exporter": "python",
   "pygments_lexer": "ipython3",
   "version": "3.7.12"
  }
 },
 "nbformat": 4,
 "nbformat_minor": 2
}

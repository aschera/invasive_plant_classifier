{
 "cells": [
  {
   "cell_type": "code",
   "execution_count": 1,
   "metadata": {},
   "outputs": [
    {
     "name": "stderr",
     "output_type": "stream",
     "text": [
      "c:\\Users\\asche\\anaconda3\\envs\\ailab\\lib\\site-packages\\tqdm\\auto.py:21: TqdmWarning: IProgress not found. Please update jupyter and ipywidgets. See https://ipywidgets.readthedocs.io/en/stable/user_install.html\n",
      "  from .autonotebook import tqdm as notebook_tqdm\n"
     ]
    }
   ],
   "source": [
    "import os\n",
    "import random\n",
    "import shutil\n",
    "from collections import defaultdict\n",
    "from PIL import Image, ImageEnhance, ImageOps, ImageFilter, ImageOps\n",
    "import matplotlib.pyplot as plt\n",
    "import numpy as np\n",
    "\n",
    "# ------------------- Torch --------------------------------#\n",
    "import torch\n",
    "from torchvision.transforms.functional import to_pil_image\n",
    "import torchvision\n",
    "from torchvision import datasets, transforms\n",
    "from torch.utils.data import DataLoader\n",
    "import torchvision.models as models\n",
    "import torch.optim as optim\n",
    "import torch.nn as nn"
   ]
  },
  {
   "cell_type": "markdown",
   "metadata": {},
   "source": [
    "- Traverse through each subfolder in the root directory.\n",
    "- Count the number of images in each subfolder.\n",
    "- Determine the minimum number of images among all the subfolders.\n",
    "- Calculate the number of images to allocate for each category (train, val, test) based on the minimum count and the desired distribution.\n",
    "- Create new folders (train, val, test) if they don't exist already.\n",
    "- Copy the required number of images from each subfolder to the respective category folders, maintaining the desired distribution."
   ]
  },
  {
   "cell_type": "code",
   "execution_count": 2,
   "metadata": {},
   "outputs": [],
   "source": [
    "# Howto:\n",
    "# https://medium.com/@siromermer/pipeline-for-every-pytorch-image-classification-problem-creating-dataset-f0f57d6ae225"
   ]
  },
  {
   "cell_type": "markdown",
   "metadata": {},
   "source": [
    "# Code directories"
   ]
  },
  {
   "cell_type": "code",
   "execution_count": 3,
   "metadata": {},
   "outputs": [],
   "source": [
    "root_dir = '../Downloading_images/data/'"
   ]
  },
  {
   "cell_type": "code",
   "execution_count": 4,
   "metadata": {},
   "outputs": [],
   "source": [
    "# path to train and validation sets\n",
    "train_dir= \"../Downloading_images/data/train/\" # path to the train folder\n",
    "validation_dir= \"../Downloading_images/data/val\" # path to the validation folder\n",
    "test_dir= \"../Downloading_images/data/test\" # path to the test folder"
   ]
  },
  {
   "cell_type": "code",
   "execution_count": 5,
   "metadata": {},
   "outputs": [],
   "source": [
    "# variables for the paths.\n",
    "train_dir = train_dir\n",
    "validation_dir = validation_dir\n",
    "test_dir = test_dir"
   ]
  },
  {
   "cell_type": "code",
   "execution_count": 6,
   "metadata": {},
   "outputs": [],
   "source": [
    "# Define the path to the models folder\n",
    "models_folder = './models/'"
   ]
  },
  {
   "cell_type": "markdown",
   "metadata": {},
   "source": [
    "# Transform the data"
   ]
  },
  {
   "cell_type": "code",
   "execution_count": 263,
   "metadata": {},
   "outputs": [
    {
     "data": {
      "text/plain": [
       "(Compose(\n",
       "     Resize(size=(224, 224), interpolation=bilinear, max_size=None, antialias=None)\n",
       "     ToTensor()\n",
       " ),\n",
       " Compose(\n",
       "     Resize(size=(224, 224), interpolation=bilinear, max_size=None, antialias=None)\n",
       "     ToTensor()\n",
       " ),\n",
       " Compose(\n",
       "     Resize(size=(224, 224), interpolation=bilinear, max_size=None, antialias=None)\n",
       "     ToTensor()\n",
       " ))"
      ]
     },
     "execution_count": 263,
     "metadata": {},
     "output_type": "execute_result"
    }
   ],
   "source": [
    "width = 224\n",
    "height = 224\n",
    "\n",
    "train_transform  = transforms.Compose([\n",
    "    # Resize Image\n",
    "    transforms.Resize(size=(width, height)), \n",
    "    # Turn the image into a torch.\n",
    "    transforms.ToTensor() \n",
    "])\n",
    "\n",
    "\n",
    "validation_transform  = transforms.Compose([\n",
    "transforms.Resize(size=(width, height)),\n",
    "transforms.ToTensor()  \n",
    "])\n",
    "\n",
    "test_transform  = transforms.Compose([\n",
    "transforms.Resize(size=(width, height)),\n",
    "transforms.ToTensor()  \n",
    "])\n",
    "\n",
    "\n",
    "train_transform,validation_transform, test_transform"
   ]
  },
  {
   "cell_type": "markdown",
   "metadata": {},
   "source": [
    "# Make data sets"
   ]
  },
  {
   "cell_type": "code",
   "execution_count": 264,
   "metadata": {},
   "outputs": [
    {
     "name": "stdout",
     "output_type": "stream",
     "text": [
      "Train data:\n",
      "Dataset ImageFolder\n",
      "    Number of datapoints: 10944\n",
      "    Root location: ../Downloading_images/data/train/\n",
      "    StandardTransform\n",
      "Transform: Compose(\n",
      "               Resize(size=(224, 224), interpolation=bilinear, max_size=None, antialias=None)\n",
      "               ToTensor()\n",
      "           )\n",
      "\n",
      "Validation data:\n",
      "Dataset ImageFolder\n",
      "    Number of datapoints: 2352\n",
      "    Root location: ../Downloading_images/data/val\n",
      "    StandardTransform\n",
      "Transform: Compose(\n",
      "               Resize(size=(224, 224), interpolation=bilinear, max_size=None, antialias=None)\n",
      "               ToTensor()\n",
      "           )\n"
     ]
    }
   ],
   "source": [
    "train_data = datasets.ImageFolder(root=train_dir, transform=train_transform)\n",
    "\n",
    "validation_data = datasets.ImageFolder(root=validation_dir, transform=validation_transform)\n",
    "\n",
    "test_data = datasets.ImageFolder(root=test_dir, transform=test_transform)\n",
    "\n",
    "print(f\"Train data:\\n{train_data}\\n\\nValidation data:\\n{validation_data}\")"
   ]
  },
  {
   "cell_type": "markdown",
   "metadata": {},
   "source": [
    "# Make dataloader objects that wortk with torch. "
   ]
  },
  {
   "cell_type": "code",
   "execution_count": 265,
   "metadata": {},
   "outputs": [
    {
     "data": {
      "text/plain": [
       "(<torch.utils.data.dataloader.DataLoader at 0x19c06133f88>,\n",
       " <torch.utils.data.dataloader.DataLoader at 0x19c06133f48>,\n",
       " <torch.utils.data.dataloader.DataLoader at 0x19c061420c8>)"
      ]
     },
     "execution_count": 265,
     "metadata": {},
     "output_type": "execute_result"
    }
   ],
   "source": [
    "# create with datasets.ImageFolder\n",
    "\n",
    "\n",
    "train_set = DataLoader(dataset=train_data,\n",
    "                            batch_size=16, # how many samples per batch?\n",
    "                            num_workers=1, # how many subprocesses to use for data loading? (higher = more)\n",
    "                            shuffle=True) # shuffle the data?\n",
    "\n",
    "\n",
    "validation_set = DataLoader(dataset=validation_data,\n",
    "                            batch_size=16,\n",
    "                            num_workers=1,\n",
    "                            shuffle=False) # dont usually need to shuffle testing data\n",
    "\n",
    "test_set = DataLoader(dataset=test_data,\n",
    "                            batch_size=16,\n",
    "                            num_workers=1,\n",
    "                            shuffle=False) # dont usually need to shuffle testing data\n",
    "\n",
    "train_set,validation_set, test_set\n"
   ]
  },
  {
   "cell_type": "code",
   "execution_count": 266,
   "metadata": {},
   "outputs": [
    {
     "name": "stdout",
     "output_type": "stream",
     "text": [
      "Batch 1:\n",
      "Images shape: torch.Size([16, 3, 224, 224])\n",
      "Labels shape: torch.Size([16])\n",
      "First image tensor: tensor([[[0.0000, 0.0000, 0.0000,  ..., 0.0000, 0.0000, 0.0000],\n",
      "         [0.0000, 0.0000, 0.0000,  ..., 0.0000, 0.0000, 0.0039],\n",
      "         [0.0000, 0.0000, 0.0000,  ..., 0.0078, 0.0078, 0.0078],\n",
      "         ...,\n",
      "         [0.0000, 0.0000, 0.0000,  ..., 0.0000, 0.0000, 0.0000],\n",
      "         [0.0000, 0.0000, 0.0000,  ..., 0.0000, 0.0000, 0.0000],\n",
      "         [0.0000, 0.0000, 0.0000,  ..., 0.0000, 0.0000, 0.0000]],\n",
      "\n",
      "        [[0.0000, 0.0000, 0.0000,  ..., 0.0039, 0.0039, 0.0000],\n",
      "         [0.0000, 0.0000, 0.0000,  ..., 0.0039, 0.0000, 0.0000],\n",
      "         [0.0000, 0.0000, 0.0000,  ..., 0.0000, 0.0000, 0.0000],\n",
      "         ...,\n",
      "         [0.0000, 0.0000, 0.0000,  ..., 0.0000, 0.0000, 0.0000],\n",
      "         [0.0000, 0.0000, 0.0000,  ..., 0.0000, 0.0000, 0.0000],\n",
      "         [0.0000, 0.0000, 0.0000,  ..., 0.0000, 0.0000, 0.0000]],\n",
      "\n",
      "        [[0.0000, 0.0000, 0.0000,  ..., 0.0000, 0.0000, 0.0000],\n",
      "         [0.0000, 0.0000, 0.0000,  ..., 0.0000, 0.0000, 0.0000],\n",
      "         [0.0000, 0.0000, 0.0000,  ..., 0.0000, 0.0000, 0.0039],\n",
      "         ...,\n",
      "         [0.0000, 0.0000, 0.0000,  ..., 0.0000, 0.0000, 0.0000],\n",
      "         [0.0000, 0.0000, 0.0000,  ..., 0.0000, 0.0000, 0.0000],\n",
      "         [0.0000, 0.0000, 0.0000,  ..., 0.0000, 0.0000, 0.0000]]])\n",
      "Corresponding label: tensor(4)\n"
     ]
    }
   ],
   "source": [
    "# Iterate over the DataLoader to get a batch of data\n",
    "for batch_idx, (images, labels) in enumerate(train_set):\n",
    "    # Print the shape of the batch of images and labels\n",
    "    print(f\"Batch {batch_idx + 1}:\")\n",
    "    print(\"Images shape:\", images.shape)\n",
    "    print(\"Labels shape:\", labels.shape)\n",
    "    \n",
    "    # Print the first image and its corresponding label\n",
    "    print(\"First image tensor:\", images[0])\n",
    "    print(\"Corresponding label:\", labels[0])\n",
    "    \n",
    "    # Break after printing the first batch\n",
    "    break\n"
   ]
  },
  {
   "cell_type": "markdown",
   "metadata": {},
   "source": [
    "# Calculate distribution of data in the sets."
   ]
  },
  {
   "cell_type": "code",
   "execution_count": 267,
   "metadata": {},
   "outputs": [],
   "source": [
    "# calculate distributions in train set and save them to dictionary\n",
    "train_class_counts = {}\n",
    "for class_folder in os.listdir(train_dir):\n",
    "    class_path = os.path.join(train_dir, class_folder)\n",
    "    if os.path.isdir(class_path):\n",
    "        num_images = len(os.listdir(class_path))\n",
    "        train_class_counts[class_folder] = num_images\n",
    "\n",
    "\n",
    "# calculate distributions in validation set and save them to dictionary\n",
    "validation_class_counts = {}\n",
    "for class_folder in os.listdir(validation_dir):\n",
    "    class_path = os.path.join(validation_dir, class_folder)\n",
    "    if os.path.isdir(class_path):\n",
    "        num_images = len(os.listdir(class_path))\n",
    "        validation_class_counts[class_folder] = num_images\n",
    "\n",
    "# calculate distributions in test set and save them to dictionary\n",
    "test_class_counts = {}\n",
    "for class_folder in os.listdir(test_dir):\n",
    "    class_path = os.path.join(test_dir, class_folder)\n",
    "    if os.path.isdir(class_path):\n",
    "        num_images = len(os.listdir(class_path))\n",
    "        test_class_counts[class_folder] = num_images"
   ]
  },
  {
   "cell_type": "markdown",
   "metadata": {},
   "source": [
    "# Plot distribution"
   ]
  },
  {
   "cell_type": "code",
   "execution_count": 268,
   "metadata": {},
   "outputs": [
    {
     "data": {
      "image/png": "[encoded data removed]",
      "text/plain": [
       "<Figure size 1200x400 with 3 Axes>"
      ]
     },
     "metadata": {},
     "output_type": "display_data"
    }
   ],
   "source": [
    "plt.figure(figsize=(12, 4))\n",
    "\n",
    "# plot for train set\n",
    "plt.subplot(1, 3, 1)\n",
    "plt.bar(train_class_counts.keys(), train_class_counts.values())\n",
    "plt.title('Training set Distribution')\n",
    "plt.xlabel('Classes')\n",
    "plt.ylabel('Sample Numbers')\n",
    "plt.xticks(rotation=45)\n",
    "\n",
    "# plot for validation set\n",
    "plt.subplot(1, 3, 2)\n",
    "plt.bar(validation_class_counts.keys(), validation_class_counts.values())\n",
    "plt.title('Validation set Distribution')\n",
    "plt.xlabel('Classes')\n",
    "plt.ylabel('Sample Numbers')\n",
    "plt.xticks(rotation=45)\n",
    "\n",
    "# plot for test set\n",
    "plt.subplot(1, 3, 3)\n",
    "plt.bar(test_class_counts.keys(), test_class_counts.values())\n",
    "plt.title('Test set Distribution')\n",
    "plt.xlabel('Classes')\n",
    "plt.ylabel('Sample Numbers')\n",
    "plt.xticks(rotation=45)\n",
    "\n",
    "plt.tight_layout()\n",
    "plt.show()"
   ]
  },
  {
   "cell_type": "markdown",
   "metadata": {},
   "source": [
    "# Show some images for testing"
   ]
  },
  {
   "cell_type": "code",
   "execution_count": 269,
   "metadata": {},
   "outputs": [
    {
     "data": {
      "text/plain": [
       "{0: '130228',\n",
       " 1: '47892',\n",
       " 2: '48537',\n",
       " 3: '48681',\n",
       " 4: '593040',\n",
       " 5: '59549',\n",
       " 6: '83653',\n",
       " 7: '914922'}"
      ]
     },
     "execution_count": 269,
     "metadata": {},
     "output_type": "execute_result"
    }
   ],
   "source": [
    "# I create train_data above , and I will use it here\n",
    "label_dict = {y: x for x, y in train_data.class_to_idx.items()}\n",
    "label_dict"
   ]
  },
  {
   "cell_type": "code",
   "execution_count": 270,
   "metadata": {},
   "outputs": [
    {
     "data": {
      "text/plain": [
       "<Figure size 1200x800 with 0 Axes>"
      ]
     },
     "metadata": {},
     "output_type": "display_data"
    }
   ],
   "source": [
    "# Extract classes from label_dict\n",
    "classes_to_display = [label_dict[y] for y in range(8)]  # Assuming you want to display the first 8 classes\n",
    "\n",
    "# Define a function to display images for selected classes\n",
    "def show_images(images, labels):\n",
    "    plt.figure(figsize=(12, 8))\n",
    "    count = 0\n",
    "    for i in range(len(images)):\n",
    "        label = labels[i].item()\n",
    "        if label in classes_to_display:\n",
    "            plt.subplot(4, 4, count + 1)\n",
    "            image = to_pil_image(images[i])  # Convert tensor to PIL Image\n",
    "            plt.imshow(image)\n",
    "            plt.title(label_dict[label])  # Convert numerical label to string label\n",
    "            plt.axis('off')\n",
    "            count += 1\n",
    "            if count >= len(classes_to_display):  # Break if all classes are displayed\n",
    "                break\n",
    "    plt.show()\n",
    "\n",
    "# Get the first batch\n",
    "for batch_idx, (images, labels) in enumerate(train_set):\n",
    "    if batch_idx == 0:  # Only process the first batch\n",
    "        show_images(images, labels)\n",
    "        break\n"
   ]
  },
  {
   "cell_type": "markdown",
   "metadata": {},
   "source": [
    "# Training the model"
   ]
  },
  {
   "cell_type": "markdown",
   "metadata": {},
   "source": [
    "### Variables and settings"
   ]
  },
  {
   "cell_type": "code",
   "execution_count": 245,
   "metadata": {},
   "outputs": [
    {
     "data": {
      "text/plain": [
       "'cpu'"
      ]
     },
     "execution_count": 245,
     "metadata": {},
     "output_type": "execute_result"
    }
   ],
   "source": [
    "# if GPU is available , use it while training \n",
    "device = \"cuda\" if torch.cuda.is_available() else \"cpu\" \n",
    "device"
   ]
  },
  {
   "cell_type": "code",
   "execution_count": 247,
   "metadata": {},
   "outputs": [],
   "source": [
    "# I am going to add accuracies to these lists and I will use them outside of this function \n",
    "train_accuracies=[]\n",
    "validation_accuracies=[]"
   ]
  },
  {
   "cell_type": "code",
   "execution_count": 255,
   "metadata": {},
   "outputs": [],
   "source": [
    "def train(dataloader, model, loss_fn, optimizer, epoch):\n",
    "    size = len(dataloader.dataset)  # total number of images inside of loader\n",
    "    num_batches = len(dataloader)    # number of batches\n",
    "\n",
    "    model.train()  # sets the PyTorch model to training mode\n",
    "\n",
    "    train_loss, correct = 0, 0\n",
    "\n",
    "    for batch, (X, y) in enumerate(dataloader):\n",
    "        # move X and y to GPU for faster training\n",
    "        X, y = X.to(device), y.to(device)\n",
    "\n",
    "        # make prediction \n",
    "        pred = model(X)\n",
    "        # calculate loss \n",
    "        loss = loss_fn(pred, y)\n",
    "\n",
    "        # Backpropagation\n",
    "        optimizer.zero_grad()\n",
    "        loss.backward()   # compute parameters gradients\n",
    "        optimizer.step()  # update parameters\n",
    "\n",
    "        # Update training loss\n",
    "        train_loss += loss.item()  # item() method extracts the loss’s value as a Python float\n",
    "\n",
    "        # Calculate training accuracy\n",
    "        correct += (pred.argmax(1) == y).type(torch.float).sum().item()\n",
    "\n",
    "    # loss and accuracy\n",
    "    train_loss = train_loss / num_batches\n",
    "    accuracy = 100 * correct / size\n",
    "\n",
    "    # use this accuracy list for plotting accuracy with matplotlib\n",
    "    train_accuracies.append(accuracy)\n",
    "\n",
    "    # Print training accuracy and loss at the end of epoch\n",
    "    print(f\"Training Accuracy: {accuracy:.2f}%, Training Loss: {train_loss:.4f}\")\n",
    "\n",
    "    return train_loss  # Return the training loss"
   ]
  },
  {
   "cell_type": "code",
   "execution_count": 256,
   "metadata": {},
   "outputs": [],
   "source": [
    "def validation(dataloader, model, loss_fn, t):\n",
    "    size = len(dataloader.dataset)  # total number of images inside of loader\n",
    "    num_batches = len(dataloader)    # number of batches\n",
    "\n",
    "    validation_loss, correct = 0, 0\n",
    "\n",
    "    # sets the PyTorch model to evaluation mode, it will disable dropout layer\n",
    "    model.eval()\n",
    "\n",
    "    with torch.no_grad():  # disable gradient calculation\n",
    "        for X, y in dataloader:\n",
    "            # move X and y to GPU for faster training\n",
    "            X, y = X.to(device), y.to(device)\n",
    "            pred = model(X)  # make prediction\n",
    "            validation_loss += loss_fn(pred, y).item()\n",
    "\n",
    "            # if prediction is correct add 1 to correct variable.\n",
    "            correct += (pred.argmax(1) == y).type(torch.float).sum().item()\n",
    "\n",
    "    # loss and accuracy\n",
    "    validation_loss /= num_batches\n",
    "    accuracy = 100 * correct / size\n",
    "\n",
    "    validation_accuracies.append(accuracy)\n",
    "\n",
    "    # Print test accuracy and loss at the end of epoch\n",
    "    print(f\"Validation Accuracy: {accuracy:.2f}%, Validation Loss: {validation_loss:.4f}\")\n",
    "    \n",
    "    return validation_loss  # Return the validation loss\n"
   ]
  },
  {
   "cell_type": "markdown",
   "metadata": {},
   "source": [
    "### Moddel architecture"
   ]
  },
  {
   "cell_type": "code",
   "execution_count": 271,
   "metadata": {},
   "outputs": [
    {
     "name": "stdout",
     "output_type": "stream",
     "text": [
      "SimpleCNN(\n",
      "  (conv1): Conv2d(3, 32, kernel_size=(3, 3), stride=(1, 1), padding=(1, 1))\n",
      "  (act1): ReLU()\n",
      "  (pool1): MaxPool2d(kernel_size=2, stride=2, padding=0, dilation=1, ceil_mode=False)\n",
      "  (conv2): Conv2d(32, 64, kernel_size=(3, 3), stride=(1, 1), padding=(1, 1))\n",
      "  (act2): ReLU()\n",
      "  (pool2): MaxPool2d(kernel_size=2, stride=2, padding=0, dilation=1, ceil_mode=False)\n",
      "  (conv3): Conv2d(64, 128, kernel_size=(3, 3), stride=(1, 1), padding=(1, 1))\n",
      "  (act3): ReLU()\n",
      "  (pool3): MaxPool2d(kernel_size=2, stride=2, padding=0, dilation=1, ceil_mode=False)\n",
      "  (conv4): Conv2d(128, 256, kernel_size=(3, 3), stride=(1, 1), padding=(1, 1))\n",
      "  (act4): ReLU()\n",
      "  (pool4): MaxPool2d(kernel_size=2, stride=2, padding=0, dilation=1, ceil_mode=False)\n",
      "  (conv5): Conv2d(256, 512, kernel_size=(3, 3), stride=(1, 1), padding=(1, 1))\n",
      "  (act5): ReLU()\n",
      "  (pool5): MaxPool2d(kernel_size=2, stride=2, padding=0, dilation=1, ceil_mode=False)\n",
      "  (conv6): Conv2d(512, 1024, kernel_size=(3, 3), stride=(1, 1), padding=(1, 1))\n",
      "  (act6): ReLU()\n",
      "  (pool6): MaxPool2d(kernel_size=2, stride=2, padding=0, dilation=1, ceil_mode=False)\n",
      "  (conv7): Conv2d(1024, 2048, kernel_size=(3, 3), stride=(1, 1), padding=(1, 1))\n",
      "  (act7): ReLU()\n",
      "  (pool7): MaxPool2d(kernel_size=2, stride=2, padding=0, dilation=1, ceil_mode=False)\n",
      "  (fc1): Linear(in_features=2048, out_features=256, bias=True)\n",
      "  (act8): ReLU()\n",
      "  (dropout): Dropout(p=0.2, inplace=False)\n",
      "  (fc2): Linear(in_features=256, out_features=9, bias=True)\n",
      ")\n"
     ]
    }
   ],
   "source": [
    "class SimpleCNN(nn.Module):\n",
    "    def __init__(self, num_classes=9):\n",
    "        super(SimpleCNN, self).__init__()\n",
    "        \n",
    "        # image size is --> (3,180,180) \n",
    "        \n",
    "        # convolutional layer with 32 filter ,input dimension is 3 because image has 3 channels\n",
    "        self.conv1 = nn.Conv2d(3, 32, kernel_size=3, padding=1) \n",
    "        # activation function , it adds   introduces non-linearity to the model , thus  it helps to model to learn complex functions .\n",
    "        self.act1 = nn.ReLU() \n",
    "        # it reduces pixel number  (90,90)\n",
    "        self.pool1 = nn.MaxPool2d(2)\n",
    "        \n",
    "        self.conv2 = nn.Conv2d(32, 64, kernel_size=3, padding=1)\n",
    "        self.act2 = nn.ReLU()\n",
    "        self.pool2 = nn.MaxPool2d(2)  # --> (45,45)\n",
    "        \n",
    "        self.conv3 = nn.Conv2d(64, 128, kernel_size=3, padding=1)\n",
    "        self.act3 = nn.ReLU()\n",
    "        self.pool3 = nn.MaxPool2d(2) # --> (22,22)\n",
    "        \n",
    "        # Add four more convolutional layers\n",
    "        self.conv4 = nn.Conv2d(128, 256, kernel_size=3, padding=1)\n",
    "        self.act4 = nn.ReLU()\n",
    "        self.pool4 = nn.MaxPool2d(2) # --> (11,11)\n",
    "        \n",
    "        self.conv5 = nn.Conv2d(256, 512, kernel_size=3, padding=1)\n",
    "        self.act5 = nn.ReLU()\n",
    "        self.pool5 = nn.MaxPool2d(2) # --> (5,5)\n",
    "        \n",
    "        self.conv6 = nn.Conv2d(512, 1024, kernel_size=3, padding=1)\n",
    "        self.act6 = nn.ReLU()\n",
    "        self.pool6 = nn.MaxPool2d(2) # --> (2,2)\n",
    "        \n",
    "        self.conv7 = nn.Conv2d(1024, 2048, kernel_size=3, padding=1)\n",
    "        self.act7 = nn.ReLU()\n",
    "        self.pool7 = nn.MaxPool2d(2) # --> (1,1)\n",
    "        \n",
    "        \n",
    "        # first flatten the channels and then feed them into the fully connected layer. Given the input shape of (2048, 1, 1), flattening it results in 2048 * 1 * 1.\n",
    "        self.fc1 = nn.Linear(2048, 256)  \n",
    "        self.act8 = nn.ReLU()\n",
    "        \n",
    "        # dropout drops randomly neurons , here %20 of neurons are dropped randomly . It helps to prevent overfitting\n",
    "        self.dropout=nn.Dropout(p=0.2) \n",
    "        \n",
    "        # The nn.Linear layer with input size 256 and output size 8 represents the output layer of our neural network. \n",
    "        # Since we have 8 classes, the output of this layer will be passed through a softmax activation function.\n",
    "        # (error function  internally applies softmax activation ,you dont need to add it to here)\n",
    "        # This converts the raw outputs into probabilities, representing the likelihood of each class. \n",
    "        # These probabilities are then used to calculate the error during trainin\n",
    "        self.fc2 = nn.Linear(256, num_classes) \n",
    "\n",
    "\n",
    "    def forward(self, x):\n",
    "        \n",
    "        # add outputs on top of each layer and return out in the end\n",
    "        out = self.pool1(self.act1(self.conv1(x)))\n",
    "        out = self.pool2(self.act2(self.conv2(out)))\n",
    "        out = self.pool3(self.act3(self.conv3(out)))\n",
    "        out = self.pool4(self.act4(self.conv4(out)))\n",
    "        out = self.pool5(self.act5(self.conv5(out)))\n",
    "        out = self.pool6(self.act6(self.conv6(out)))\n",
    "        out = self.pool7(self.act7(self.conv7(out)))\n",
    "        \n",
    "        out = out.view(out.size(0), -1)\n",
    "        \n",
    "        out = self.act8(self.fc1(out))\n",
    "        out = self.dropout(out)\n",
    "        out = self.fc2(out)\n",
    "        \n",
    "        return out\n",
    "\n",
    "# create model\n",
    "model = SimpleCNN()\n",
    "\n",
    "# Print the model\n",
    "print(model)\n"
   ]
  },
  {
   "cell_type": "code",
   "execution_count": 276,
   "metadata": {},
   "outputs": [],
   "source": [
    "import torch\n",
    "import torch.nn as nn\n",
    "import torchvision.models as models\n",
    "\n",
    "# Load pre-trained ResNet50 model\n",
    "resnet = models.resnet50(pretrained=True)\n",
    "\n",
    "# Modify the last fully connected layer to match the number of classes in your dataset\n",
    "num_classes = 8  # Change this according to your dataset\n",
    "resnet.fc = nn.Linear(resnet.fc.in_features, num_classes)\n",
    "\n",
    "# Optionally, if you want to freeze the weights of the pre-trained layers\n",
    "for param in resnet.parameters():\n",
    "    param.requires_grad = False\n",
    "\n",
    "class SimpleCNN(nn.Module):\n",
    "    def __init__(self, backbone, num_classes):\n",
    "        super(SimpleCNN, self).__init__()\n",
    "        self.backbone = backbone\n",
    "\n",
    "        # Add additional layers if needed\n",
    "        self.fc = nn.Linear(2048, num_classes)  # Input size is fixed for ResNet50\n",
    "\n",
    "    def forward(self, x):\n",
    "        features = self.backbone(x)\n",
    "        out = self.fc(features)\n",
    "        return out\n",
    "\n",
    "# Load pre-trained ResNet50 model\n",
    "resnet = models.resnet50(pretrained=True)\n",
    "\n",
    "# Modify the last fully connected layer to match the number of classes in your dataset\n",
    "num_classes = 8  # Change this according to your dataset\n",
    "resnet.fc = nn.Identity()  # Remove the final fully connected layer of ResNet50\n",
    "\n",
    "# Instantiate your SimpleCNN model with ResNet50 backbone\n",
    "model = SimpleCNN(resnet, num_classes)\n"
   ]
  },
  {
   "cell_type": "markdown",
   "metadata": {},
   "source": [
    "# Test MyCNN"
   ]
  },
  {
   "cell_type": "code",
   "execution_count": 277,
   "metadata": {},
   "outputs": [],
   "source": [
    "import torch.nn.functional as F\n",
    "\n",
    "# Loss function and optimizer\n",
    "loss_fn = nn.CrossEntropyLoss()\n",
    "optimizer = torch.optim.SGD(model.parameters(), lr=1e-3, weight_decay=1e-4)  # Adding weight decay\n",
    "\n",
    "# epoch number \n",
    "epochs = 100\n",
    "\n",
    "best_validation_loss = float('inf')\n",
    "patience = 5  # Number of epochs to wait for improvement\n",
    "counter = 0"
   ]
  },
  {
   "cell_type": "code",
   "execution_count": 278,
   "metadata": {},
   "outputs": [
    {
     "name": "stdout",
     "output_type": "stream",
     "text": [
      "Epoch 1\n",
      "Training Accuracy: 50.09%, Training Loss: 1.5880\n",
      "Validation Accuracy: 65.73%, Validation Loss: 1.0898\n",
      "----------------------------\n",
      "Epoch 2\n",
      "Training Accuracy: 70.27%, Training Loss: 0.9375\n",
      "Validation Accuracy: 75.47%, Validation Loss: 0.7471\n",
      "----------------------------\n",
      "Epoch 3\n",
      "Training Accuracy: 76.15%, Training Loss: 0.7152\n",
      "Validation Accuracy: 78.23%, Validation Loss: 0.6297\n",
      "----------------------------\n",
      "Epoch 4\n",
      "Training Accuracy: 80.25%, Training Loss: 0.5874\n",
      "Validation Accuracy: 80.31%, Validation Loss: 0.5663\n",
      "----------------------------\n",
      "Epoch 5\n",
      "Training Accuracy: 83.39%, Training Loss: 0.4907\n",
      "Validation Accuracy: 82.14%, Validation Loss: 0.5197\n",
      "----------------------------\n",
      "Epoch 6\n",
      "Training Accuracy: 86.35%, Training Loss: 0.4087\n",
      "Validation Accuracy: 82.82%, Validation Loss: 0.4920\n",
      "----------------------------\n",
      "Epoch 7\n",
      "Training Accuracy: 88.82%, Training Loss: 0.3458\n",
      "Validation Accuracy: 82.82%, Validation Loss: 0.4983\n",
      "----------------------------\n",
      "Epoch 8\n",
      "Training Accuracy: 91.00%, Training Loss: 0.2854\n",
      "Validation Accuracy: 83.33%, Validation Loss: 0.4812\n",
      "----------------------------\n",
      "Epoch 9\n",
      "Training Accuracy: 93.07%, Training Loss: 0.2284\n",
      "Validation Accuracy: 82.61%, Validation Loss: 0.4846\n",
      "----------------------------\n",
      "Epoch 10\n",
      "Training Accuracy: 94.54%, Training Loss: 0.1890\n",
      "Validation Accuracy: 83.63%, Validation Loss: 0.4795\n",
      "----------------------------\n",
      "Epoch 11\n",
      "Training Accuracy: 96.41%, Training Loss: 0.1437\n",
      "Validation Accuracy: 84.27%, Validation Loss: 0.4848\n",
      "----------------------------\n",
      "Epoch 12\n",
      "Training Accuracy: 97.26%, Training Loss: 0.1170\n",
      "Validation Accuracy: 84.06%, Validation Loss: 0.4977\n",
      "----------------------------\n",
      "Epoch 13\n",
      "Training Accuracy: 97.70%, Training Loss: 0.0993\n",
      "Validation Accuracy: 83.89%, Validation Loss: 0.5068\n",
      "----------------------------\n",
      "Epoch 14\n",
      "Training Accuracy: 98.16%, Training Loss: 0.0828\n",
      "Validation Accuracy: 83.38%, Validation Loss: 0.5252\n",
      "----------------------------\n",
      "Epoch 15\n",
      "Training Accuracy: 98.59%, Training Loss: 0.0675\n",
      "Validation Accuracy: 84.23%, Validation Loss: 0.5175\n",
      "----------------------------\n",
      "Validation loss hasn't improved for 5 epochs. Early stopping...\n",
      "Done!\n"
     ]
    }
   ],
   "source": [
    "for t in range(epochs):\n",
    "    print(f\"Epoch {t+1}\")\n",
    "    train_loss = train(train_set, model, loss_fn, optimizer, t)  # Get the training loss\n",
    "    validation_loss = validation(validation_set, model, loss_fn, t)\n",
    "    print(\"----------------------------\")\n",
    "    \n",
    "    # Check if validation loss has improved\n",
    "    if validation_loss < best_validation_loss:\n",
    "        best_validation_loss = validation_loss\n",
    "        counter = 0\n",
    "        # Save the best model\n",
    "        torch.save(model.state_dict(), 'best_model.pth')\n",
    "    else:\n",
    "        counter += 1\n",
    "        # If validation loss hasn't improved for 'patience' epochs, stop training\n",
    "        if counter >= patience:\n",
    "            print(f\"Validation loss hasn't improved for {patience} epochs. Early stopping...\")\n",
    "            break\n",
    "\n",
    "print(\"Done!\")\n"
   ]
  },
  {
   "cell_type": "code",
   "execution_count": 280,
   "metadata": {},
   "outputs": [
    {
     "name": "stdout",
     "output_type": "stream",
     "text": [
      "Model 1 saved!\n"
     ]
    }
   ],
   "source": [
    "# Save the model after training\n",
    "torch.save(model.state_dict(), './models/trained_model1.pth')\n",
    "\n",
    "print(\"Model 1 saved!\")"
   ]
  },
  {
   "cell_type": "code",
   "execution_count": 281,
   "metadata": {},
   "outputs": [],
   "source": [
    "import matplotlib.pyplot as plt \n",
    "\n",
    "def visualize(train_accuracies,validation_accuracies):\n",
    "    epoch_number=len(train_accuracies)\n",
    "\n",
    "    plt.plot(range(1,epoch_number+1),train_accuracies,'r', label='Training accuracy')\n",
    "    plt.plot(range(1,epoch_number+1),validation_accuracies,'b', label='Validation accuracy')\n",
    "    plt.legend()\n",
    "    plt.xlabel(\"Epoch Number\")\n",
    "    plt.ylabel(\"Accuracies\")\n",
    "    plt.grid()"
   ]
  },
  {
   "cell_type": "code",
   "execution_count": 282,
   "metadata": {},
   "outputs": [
    {
     "data": {
      "image/png": "[encoded data removed]",
      "text/plain": [
       "<Figure size 640x480 with 1 Axes>"
      ]
     },
     "metadata": {},
     "output_type": "display_data"
    }
   ],
   "source": [
    "# Remember , this 2 parameters are lists , I created them above and append values to them regularly\n",
    "visualize(train_accuracies,validation_accuracies)"
   ]
  },
  {
   "cell_type": "code",
   "execution_count": 291,
   "metadata": {},
   "outputs": [
    {
     "name": "stdout",
     "output_type": "stream",
     "text": [
      "15\n",
      "26\n",
      "26\n"
     ]
    },
    {
     "ename": "ValueError",
     "evalue": "x and y must have same first dimension, but have shapes (15,) and (26,)",
     "output_type": "error",
     "traceback": [
      "\u001b[1;31m---------------------------------------------------------------------------\u001b[0m",
      "\u001b[1;31mValueError\u001b[0m                                Traceback (most recent call last)",
      "\u001b[1;32m~\\AppData\\Local\\Temp\\ipykernel_20728\\960906845.py\u001b[0m in \u001b[0;36m<module>\u001b[1;34m\u001b[0m\n\u001b[0;32m     18\u001b[0m \u001b[1;31m# Accuracy Plot\u001b[0m\u001b[1;33m\u001b[0m\u001b[1;33m\u001b[0m\u001b[1;33m\u001b[0m\u001b[0m\n\u001b[0;32m     19\u001b[0m \u001b[0mplt\u001b[0m\u001b[1;33m.\u001b[0m\u001b[0msubplot\u001b[0m\u001b[1;33m(\u001b[0m\u001b[1;36m1\u001b[0m\u001b[1;33m,\u001b[0m \u001b[1;36m2\u001b[0m\u001b[1;33m,\u001b[0m \u001b[1;36m1\u001b[0m\u001b[1;33m)\u001b[0m\u001b[1;33m\u001b[0m\u001b[1;33m\u001b[0m\u001b[0m\n\u001b[1;32m---> 20\u001b[1;33m \u001b[0mplt\u001b[0m\u001b[1;33m.\u001b[0m\u001b[0mplot\u001b[0m\u001b[1;33m(\u001b[0m\u001b[0mepochs\u001b[0m\u001b[1;33m,\u001b[0m \u001b[0mtraining_accuracy\u001b[0m\u001b[1;33m,\u001b[0m \u001b[0mmarker\u001b[0m\u001b[1;33m=\u001b[0m\u001b[1;34m'o'\u001b[0m\u001b[1;33m,\u001b[0m \u001b[0mlabel\u001b[0m\u001b[1;33m=\u001b[0m\u001b[1;34m'Training Accuracy'\u001b[0m\u001b[1;33m)\u001b[0m\u001b[1;33m\u001b[0m\u001b[1;33m\u001b[0m\u001b[0m\n\u001b[0m\u001b[0;32m     21\u001b[0m \u001b[0mplt\u001b[0m\u001b[1;33m.\u001b[0m\u001b[0mplot\u001b[0m\u001b[1;33m(\u001b[0m\u001b[0mepochs\u001b[0m\u001b[1;33m,\u001b[0m \u001b[0mvalidation_accuracy\u001b[0m\u001b[1;33m,\u001b[0m \u001b[0mmarker\u001b[0m\u001b[1;33m=\u001b[0m\u001b[1;34m'o'\u001b[0m\u001b[1;33m,\u001b[0m \u001b[0mlabel\u001b[0m\u001b[1;33m=\u001b[0m\u001b[1;34m'Validation Accuracy'\u001b[0m\u001b[1;33m)\u001b[0m\u001b[1;33m\u001b[0m\u001b[1;33m\u001b[0m\u001b[0m\n\u001b[0;32m     22\u001b[0m \u001b[0mplt\u001b[0m\u001b[1;33m.\u001b[0m\u001b[0mtitle\u001b[0m\u001b[1;33m(\u001b[0m\u001b[1;34m'Accuracy Over Epochs'\u001b[0m\u001b[1;33m)\u001b[0m\u001b[1;33m\u001b[0m\u001b[1;33m\u001b[0m\u001b[0m\n",
      "\u001b[1;32mc:\\Users\\asche\\anaconda3\\envs\\ailab\\lib\\site-packages\\matplotlib\\pyplot.py\u001b[0m in \u001b[0;36mplot\u001b[1;34m(scalex, scaley, data, *args, **kwargs)\u001b[0m\n\u001b[0;32m   2767\u001b[0m     return gca().plot(\n\u001b[0;32m   2768\u001b[0m         \u001b[1;33m*\u001b[0m\u001b[0margs\u001b[0m\u001b[1;33m,\u001b[0m \u001b[0mscalex\u001b[0m\u001b[1;33m=\u001b[0m\u001b[0mscalex\u001b[0m\u001b[1;33m,\u001b[0m \u001b[0mscaley\u001b[0m\u001b[1;33m=\u001b[0m\u001b[0mscaley\u001b[0m\u001b[1;33m,\u001b[0m\u001b[1;33m\u001b[0m\u001b[1;33m\u001b[0m\u001b[0m\n\u001b[1;32m-> 2769\u001b[1;33m         **({\"data\": data} if data is not None else {}), **kwargs)\n\u001b[0m\u001b[0;32m   2770\u001b[0m \u001b[1;33m\u001b[0m\u001b[0m\n\u001b[0;32m   2771\u001b[0m \u001b[1;33m\u001b[0m\u001b[0m\n",
      "\u001b[1;32mc:\\Users\\asche\\anaconda3\\envs\\ailab\\lib\\site-packages\\matplotlib\\axes\\_axes.py\u001b[0m in \u001b[0;36mplot\u001b[1;34m(self, scalex, scaley, data, *args, **kwargs)\u001b[0m\n\u001b[0;32m   1633\u001b[0m         \"\"\"\n\u001b[0;32m   1634\u001b[0m         \u001b[0mkwargs\u001b[0m \u001b[1;33m=\u001b[0m \u001b[0mcbook\u001b[0m\u001b[1;33m.\u001b[0m\u001b[0mnormalize_kwargs\u001b[0m\u001b[1;33m(\u001b[0m\u001b[0mkwargs\u001b[0m\u001b[1;33m,\u001b[0m \u001b[0mmlines\u001b[0m\u001b[1;33m.\u001b[0m\u001b[0mLine2D\u001b[0m\u001b[1;33m)\u001b[0m\u001b[1;33m\u001b[0m\u001b[1;33m\u001b[0m\u001b[0m\n\u001b[1;32m-> 1635\u001b[1;33m         \u001b[0mlines\u001b[0m \u001b[1;33m=\u001b[0m \u001b[1;33m[\u001b[0m\u001b[1;33m*\u001b[0m\u001b[0mself\u001b[0m\u001b[1;33m.\u001b[0m\u001b[0m_get_lines\u001b[0m\u001b[1;33m(\u001b[0m\u001b[1;33m*\u001b[0m\u001b[0margs\u001b[0m\u001b[1;33m,\u001b[0m \u001b[0mdata\u001b[0m\u001b[1;33m=\u001b[0m\u001b[0mdata\u001b[0m\u001b[1;33m,\u001b[0m \u001b[1;33m**\u001b[0m\u001b[0mkwargs\u001b[0m\u001b[1;33m)\u001b[0m\u001b[1;33m]\u001b[0m\u001b[1;33m\u001b[0m\u001b[1;33m\u001b[0m\u001b[0m\n\u001b[0m\u001b[0;32m   1636\u001b[0m         \u001b[1;32mfor\u001b[0m \u001b[0mline\u001b[0m \u001b[1;32min\u001b[0m \u001b[0mlines\u001b[0m\u001b[1;33m:\u001b[0m\u001b[1;33m\u001b[0m\u001b[1;33m\u001b[0m\u001b[0m\n\u001b[0;32m   1637\u001b[0m             \u001b[0mself\u001b[0m\u001b[1;33m.\u001b[0m\u001b[0madd_line\u001b[0m\u001b[1;33m(\u001b[0m\u001b[0mline\u001b[0m\u001b[1;33m)\u001b[0m\u001b[1;33m\u001b[0m\u001b[1;33m\u001b[0m\u001b[0m\n",
      "\u001b[1;32mc:\\Users\\asche\\anaconda3\\envs\\ailab\\lib\\site-packages\\matplotlib\\axes\\_base.py\u001b[0m in \u001b[0;36m__call__\u001b[1;34m(self, data, *args, **kwargs)\u001b[0m\n\u001b[0;32m    310\u001b[0m                 \u001b[0mthis\u001b[0m \u001b[1;33m+=\u001b[0m \u001b[0margs\u001b[0m\u001b[1;33m[\u001b[0m\u001b[1;36m0\u001b[0m\u001b[1;33m]\u001b[0m\u001b[1;33m,\u001b[0m\u001b[1;33m\u001b[0m\u001b[1;33m\u001b[0m\u001b[0m\n\u001b[0;32m    311\u001b[0m                 \u001b[0margs\u001b[0m \u001b[1;33m=\u001b[0m \u001b[0margs\u001b[0m\u001b[1;33m[\u001b[0m\u001b[1;36m1\u001b[0m\u001b[1;33m:\u001b[0m\u001b[1;33m]\u001b[0m\u001b[1;33m\u001b[0m\u001b[1;33m\u001b[0m\u001b[0m\n\u001b[1;32m--> 312\u001b[1;33m             \u001b[1;32myield\u001b[0m \u001b[1;32mfrom\u001b[0m \u001b[0mself\u001b[0m\u001b[1;33m.\u001b[0m\u001b[0m_plot_args\u001b[0m\u001b[1;33m(\u001b[0m\u001b[0mthis\u001b[0m\u001b[1;33m,\u001b[0m \u001b[0mkwargs\u001b[0m\u001b[1;33m)\u001b[0m\u001b[1;33m\u001b[0m\u001b[1;33m\u001b[0m\u001b[0m\n\u001b[0m\u001b[0;32m    313\u001b[0m \u001b[1;33m\u001b[0m\u001b[0m\n\u001b[0;32m    314\u001b[0m     \u001b[1;32mdef\u001b[0m \u001b[0mget_next_color\u001b[0m\u001b[1;33m(\u001b[0m\u001b[0mself\u001b[0m\u001b[1;33m)\u001b[0m\u001b[1;33m:\u001b[0m\u001b[1;33m\u001b[0m\u001b[1;33m\u001b[0m\u001b[0m\n",
      "\u001b[1;32mc:\\Users\\asche\\anaconda3\\envs\\ailab\\lib\\site-packages\\matplotlib\\axes\\_base.py\u001b[0m in \u001b[0;36m_plot_args\u001b[1;34m(self, tup, kwargs, return_kwargs)\u001b[0m\n\u001b[0;32m    496\u001b[0m \u001b[1;33m\u001b[0m\u001b[0m\n\u001b[0;32m    497\u001b[0m         \u001b[1;32mif\u001b[0m \u001b[0mx\u001b[0m\u001b[1;33m.\u001b[0m\u001b[0mshape\u001b[0m\u001b[1;33m[\u001b[0m\u001b[1;36m0\u001b[0m\u001b[1;33m]\u001b[0m \u001b[1;33m!=\u001b[0m \u001b[0my\u001b[0m\u001b[1;33m.\u001b[0m\u001b[0mshape\u001b[0m\u001b[1;33m[\u001b[0m\u001b[1;36m0\u001b[0m\u001b[1;33m]\u001b[0m\u001b[1;33m:\u001b[0m\u001b[1;33m\u001b[0m\u001b[1;33m\u001b[0m\u001b[0m\n\u001b[1;32m--> 498\u001b[1;33m             raise ValueError(f\"x and y must have same first dimension, but \"\n\u001b[0m\u001b[0;32m    499\u001b[0m                              f\"have shapes {x.shape} and {y.shape}\")\n\u001b[0;32m    500\u001b[0m         \u001b[1;32mif\u001b[0m \u001b[0mx\u001b[0m\u001b[1;33m.\u001b[0m\u001b[0mndim\u001b[0m \u001b[1;33m>\u001b[0m \u001b[1;36m2\u001b[0m \u001b[1;32mor\u001b[0m \u001b[0my\u001b[0m\u001b[1;33m.\u001b[0m\u001b[0mndim\u001b[0m \u001b[1;33m>\u001b[0m \u001b[1;36m2\u001b[0m\u001b[1;33m:\u001b[0m\u001b[1;33m\u001b[0m\u001b[1;33m\u001b[0m\u001b[0m\n",
      "\u001b[1;31mValueError\u001b[0m: x and y must have same first dimension, but have shapes (15,) and (26,)"
     ]
    },
    {
     "data": {
      "image/png": "[encoded data removed]",
      "text/plain": [
       "<Figure size 1200x600 with 1 Axes>"
      ]
     },
     "metadata": {},
     "output_type": "display_data"
    }
   ],
   "source": [
    "import matplotlib.pyplot as plt\n",
    "\n",
    "# Data\n",
    "epochs = [1,2,3,4,5,6,7,8,9,10,11,12,13,14,15]\n",
    "print(len(epochs))\n",
    "training_accuracy = train_accuracies \n",
    "print(len(training_accuracy))\n",
    "validation_accuracy = validation_accuracies \n",
    "print(len(validation_accuracy))\n",
    "\n",
    "training_loss = train_loss\n",
    "validation_loss = validation_loss\n",
    "\n",
    "\n",
    "# Plotting\n",
    "plt.figure(figsize=(12, 6))\n",
    "\n",
    "# Accuracy Plot\n",
    "plt.subplot(1, 2, 1)\n",
    "plt.plot(epochs, training_accuracy, marker='o', label='Training Accuracy')\n",
    "plt.plot(epochs, validation_accuracy, marker='o', label='Validation Accuracy')\n",
    "plt.title('Accuracy Over Epochs')\n",
    "plt.xlabel('Epochs')\n",
    "plt.ylabel('Accuracy')\n",
    "plt.legend()\n",
    "\n",
    "# Loss Plot\n",
    "plt.subplot(1, 2, 2)\n",
    "plt.plot(epochs, training_loss, marker='o', label='Training Loss')\n",
    "plt.plot(epochs, validation_loss, marker='o', label='Validation Loss')\n",
    "plt.title('Loss Over Epochs')\n",
    "plt.xlabel('Epochs')\n",
    "plt.ylabel('Loss')\n",
    "plt.legend()\n",
    "\n",
    "plt.tight_layout()\n",
    "plt.show()\n"
   ]
  }
 ],
 "metadata": {
  "kernelspec": {
   "display_name": "ailab",
   "language": "python",
   "name": "python3"
  },
  "language_info": {
   "codemirror_mode": {
    "name": "ipython",
    "version": 3
   },
   "file_extension": ".py",
   "mimetype": "text/x-python",
   "name": "python",
   "nbconvert_exporter": "python",
   "pygments_lexer": "ipython3",
   "version": "3.7.12"
  }
 },
 "nbformat": 4,
 "nbformat_minor": 2
}

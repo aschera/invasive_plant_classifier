{
 "cells": [
  {
   "cell_type": "markdown",
   "metadata": {},
   "source": [
    "# Imports"
   ]
  },
  {
   "cell_type": "code",
   "execution_count": 63,
   "metadata": {},
   "outputs": [],
   "source": [
    "import argparse\n",
    "import csv\n",
    "import os\n",
    "import random\n",
    "import xml.etree.ElementTree as ET\n",
    "\n",
    "import matplotlib.pyplot as plt\n",
    "import numpy as np\n",
    "import torch\n",
    "import torch.nn as nn\n",
    "import torch.nn.functional as F\n",
    "import torch.optim as optim\n",
    "import torchvision.models as models\n",
    "import torchvision.transforms as transforms\n",
    "import torchvision.utils as utils\n",
    "from PIL import Image\n",
    "from sklearn.metrics import confusion_matrix, ConfusionMatrixDisplay\n",
    "from torch.utils.data import DataLoader, Dataset, random_split, Subset\n",
    "from torch.utils.data.sampler import SubsetRandomSampler\n",
    "from torchvision.datasets import ImageFolder\n",
    "import os\n",
    "from torchvision import transforms\n",
    "from PIL import Image\n",
    "from torch.utils.data import Dataset\n",
    "from torch.utils.data import Dataset, DataLoader\n",
    "from sklearn.model_selection import train_test_split\n",
    "import numpy as np\n",
    "import os\n",
    "from collections import defaultdict\n",
    "import os\n",
    "import csv\n",
    "import torch\n",
    "import torch.nn.functional as F\n",
    "import os\n",
    "import numpy as np\n",
    "import os\n",
    "import numpy as np\n",
    "import torch\n",
    "from torchvision import transforms\n",
    "import os\n",
    "from PIL import Image\n",
    "import torch\n",
    "import torch.nn.functional as F\n",
    "import csv\n",
    "import torchvision.transforms.functional as TF"
   ]
  },
  {
   "cell_type": "markdown",
   "metadata": {},
   "source": [
    "# Get images and labels"
   ]
  },
  {
   "cell_type": "code",
   "execution_count": 143,
   "metadata": {},
   "outputs": [
    {
     "name": "stdout",
     "output_type": "stream",
     "text": [
      "Classes and Label Encoding:\n",
      "Class: 130228, Label Encoding: [1, 0, 0, 0, 0, 0, 0, 0]\n",
      "Class: 47892, Label Encoding: [0, 1, 0, 0, 0, 0, 0, 0]\n",
      "Class: 48537, Label Encoding: [0, 0, 1, 0, 0, 0, 0, 0]\n",
      "Class: 48681, Label Encoding: [0, 0, 0, 1, 0, 0, 0, 0]\n",
      "Class: 593040, Label Encoding: [0, 0, 0, 0, 1, 0, 0, 0]\n",
      "Class: 59549, Label Encoding: [0, 0, 0, 0, 0, 1, 0, 0]\n",
      "Class: 83653, Label Encoding: [0, 0, 0, 0, 0, 0, 1, 0]\n",
      "Class: 914922, Label Encoding: [0, 0, 0, 0, 0, 0, 0, 1]\n",
      "Classes and Label Encoding:\n",
      "Class: 130228, Label Encoding: [1, 0, 0, 0, 0, 0, 0, 0]\n",
      "Class: 47892, Label Encoding: [0, 1, 0, 0, 0, 0, 0, 0]\n",
      "Class: 48537, Label Encoding: [0, 0, 1, 0, 0, 0, 0, 0]\n",
      "Class: 48681, Label Encoding: [0, 0, 0, 1, 0, 0, 0, 0]\n",
      "Class: 593040, Label Encoding: [0, 0, 0, 0, 1, 0, 0, 0]\n",
      "Class: 59549, Label Encoding: [0, 0, 0, 0, 0, 1, 0, 0]\n",
      "Class: 83653, Label Encoding: [0, 0, 0, 0, 0, 0, 1, 0]\n",
      "Class: 914922, Label Encoding: [0, 0, 0, 0, 0, 0, 0, 1]\n",
      "Classes and Label Encoding:\n",
      "Class: 130228, Label Encoding: [1, 0, 0, 0, 0, 0, 0, 0]\n",
      "Class: 47892, Label Encoding: [0, 1, 0, 0, 0, 0, 0, 0]\n",
      "Class: 48537, Label Encoding: [0, 0, 1, 0, 0, 0, 0, 0]\n",
      "Class: 48681, Label Encoding: [0, 0, 0, 1, 0, 0, 0, 0]\n",
      "Class: 593040, Label Encoding: [0, 0, 0, 0, 1, 0, 0, 0]\n",
      "Class: 59549, Label Encoding: [0, 0, 0, 0, 0, 1, 0, 0]\n",
      "Class: 83653, Label Encoding: [0, 0, 0, 0, 0, 0, 1, 0]\n",
      "Class: 914922, Label Encoding: [0, 0, 0, 0, 0, 0, 0, 1]\n"
     ]
    }
   ],
   "source": [
    "class PlantDataset(Dataset):\n",
    "    def __init__(self, root_dir, transform=None):\n",
    "        self.root_dir = root_dir\n",
    "        self.transform = transform\n",
    "        self.image_paths = []\n",
    "        self.labels = []\n",
    "\n",
    "        # Create a dictionary to map class names to indices\n",
    "        class_to_idx = {cls_name: idx for idx, cls_name in enumerate(sorted(os.listdir(root_dir))) if cls_name != 'websites'}\n",
    "        \n",
    "        num_classes = len(class_to_idx)\n",
    "\n",
    "        # Print out the classes and how labels are set\n",
    "        print(\"Classes and Label Encoding:\")\n",
    "        for class_name, class_idx in class_to_idx.items():\n",
    "            label = [0] * num_classes\n",
    "            label[class_idx] = 1\n",
    "            print(f\"Class: {class_name}, Label Encoding: {label}\")\n",
    "\n",
    "        # Traverse the root directory and collect paths of all image files\n",
    "        for class_name in os.listdir(root_dir):\n",
    "            class_path = os.path.join(root_dir, class_name)\n",
    "            if os.path.isdir(class_path) and class_name != 'websites':\n",
    "                class_idx = class_to_idx[class_name]  # Get the index of the current class\n",
    "                for img_file in os.listdir(class_path):\n",
    "                    if img_file.endswith(('.jpg', '.jpeg', '.png')):\n",
    "                        self.image_paths.append(os.path.join(class_path, img_file))\n",
    "\n",
    "                        # Initialize label list with zeros for each image\n",
    "                        label = [0] * num_classes\n",
    "                        \n",
    "                        # Set the corresponding class index to 1\n",
    "                        label[class_idx] = 1\n",
    "\n",
    "                        # Append the one-hot encoded label to the labels list\n",
    "                        self.labels.append(label)\n",
    "\n",
    "    def __len__(self):\n",
    "        return len(self.image_paths)\n",
    "\n",
    "    def __getitem__(self, idx):\n",
    "        img_path = self.image_paths[idx]\n",
    "        image = Image.open(img_path).convert('RGB')\n",
    "        label = self.labels[idx]\n",
    "\n",
    "        if self.transform:\n",
    "            image = self.transform(image)\n",
    "\n",
    "        return image, label\n",
    "\n",
    "\n",
    "# Define the total dataset\n",
    "train_dataset = PlantDataset(root_dir='../Downloading_images/data/train')\n",
    "val_dataset = PlantDataset(root_dir='../Downloading_images/data/val')\n",
    "test_dataset = PlantDataset(root_dir='../Downloading_images/data/test')\n"
   ]
  },
  {
   "cell_type": "code",
   "execution_count": 144,
   "metadata": {},
   "outputs": [
    {
     "name": "stdout",
     "output_type": "stream",
     "text": [
      "Number of images in train dataset: 10944\n",
      "Number of images in validation dataset: 2352\n",
      "Number of images in test dataset: 2352\n"
     ]
    }
   ],
   "source": [
    "print(\"Number of images in train dataset:\", len(train_dataset))\n",
    "print(\"Number of images in validation dataset:\", len(val_dataset))\n",
    "print(\"Number of images in test dataset:\", len(test_dataset))\n"
   ]
  },
  {
   "cell_type": "code",
   "execution_count": 110,
   "metadata": {},
   "outputs": [
    {
     "name": "stdout",
     "output_type": "stream",
     "text": [
      "10944\n"
     ]
    }
   ],
   "source": [
    "print(len(train_dataset))"
   ]
  },
  {
   "cell_type": "code",
   "execution_count": 111,
   "metadata": {},
   "outputs": [
    {
     "data": {
      "text/plain": [
       "<__main__.PlantDataset at 0x1de09d08348>"
      ]
     },
     "execution_count": 111,
     "metadata": {},
     "output_type": "execute_result"
    }
   ],
   "source": [
    "train_dataset"
   ]
  },
  {
   "cell_type": "code",
   "execution_count": 112,
   "metadata": {},
   "outputs": [
    {
     "name": "stdout",
     "output_type": "stream",
     "text": [
      "Image shape: (224, 224, 3)\n",
      "Image mean: 123.16761665603741\n",
      "Image standard deviation: 59.89321928620733\n"
     ]
    }
   ],
   "source": [
    "from torchvision import transforms\n",
    "\n",
    "# Define the transformation without normalization for visualization\n",
    "transform_without_normalization = transforms.Compose([\n",
    "    transforms.Resize((224, 224)),  # Resize images to 224x224\n",
    "    # You can remove transforms.ToTensor() here since the image is already a PIL Image\n",
    "])\n",
    "\n",
    "# Select a random index to retrieve an image\n",
    "idx = 0  # You can change this to any index within the dataset length\n",
    "\n",
    "# Retrieve the image and its label\n",
    "image, label = train_dataset[idx]\n",
    "\n",
    "# Apply the transformation without normalization to get the image in its original form\n",
    "image_without_normalization = transform_without_normalization(image)\n",
    "\n",
    "# Convert the PIL Image to a NumPy array for easy manipulation\n",
    "image_np = np.array(image_without_normalization)\n",
    "\n",
    "# Print image properties\n",
    "print(\"Image shape:\", image_np.shape)\n",
    "print(\"Image mean:\", image_np.mean())\n",
    "print(\"Image standard deviation:\", image_np.std())\n",
    "\n",
    "# You can also visualize the image if needed\n",
    "image_without_normalization.show()\n"
   ]
  },
  {
   "cell_type": "code",
   "execution_count": 113,
   "metadata": {},
   "outputs": [
    {
     "name": "stdout",
     "output_type": "stream",
     "text": [
      "2352\n"
     ]
    }
   ],
   "source": [
    "print(len(val_dataset))"
   ]
  },
  {
   "cell_type": "code",
   "execution_count": 114,
   "metadata": {},
   "outputs": [
    {
     "name": "stdout",
     "output_type": "stream",
     "text": [
      "2352\n"
     ]
    }
   ],
   "source": [
    "print(len(test_dataset))"
   ]
  },
  {
   "cell_type": "markdown",
   "metadata": {},
   "source": [
    "# Make train val and test sets"
   ]
  },
  {
   "cell_type": "markdown",
   "metadata": {},
   "source": [
    "- Training imagea are 70%\n",
    "- Validation images are 15%\n",
    "- Testing images are 15%."
   ]
  },
  {
   "cell_type": "markdown",
   "metadata": {},
   "source": [
    "### How many plant-images do we have from each class"
   ]
  },
  {
   "cell_type": "code",
   "execution_count": 115,
   "metadata": {},
   "outputs": [
    {
     "name": "stdout",
     "output_type": "stream",
     "text": [
      "Number of images for 130228: 1244\n",
      "Number of images for 47892: 1132\n",
      "Number of images for 48537: 1034\n",
      "Number of images for 59549: 1422\n",
      "Number of images for 914922: 1104\n"
     ]
    }
   ],
   "source": [
    "# Initialize a dictionary to store the count of images for each plant\n",
    "images_per_plant = {}\n",
    "\n",
    "# Iterate through subfolders (plants) in the root directory\n",
    "root_dir = 'C:/Users/asche/OneDrive/Skrivebord/invasive_plant_classifier/Downloading_images/data/' \n",
    "for plant_folder in os.listdir(root_dir):\n",
    "    # Construct the full path to the plant folder\n",
    "    plant_folder_path = os.path.join(root_dir, plant_folder)\n",
    "    \n",
    "    # Check if it's a directory and exclude the \"websites\" folder\n",
    "    if os.path.isdir(plant_folder_path) and plant_folder != 'websites':\n",
    "        # Count the number of images in the folder\n",
    "        images_count = len(os.listdir(plant_folder_path))\n",
    "        \n",
    "        # Store the count in the dictionary with the plant name as the key\n",
    "        images_per_plant[plant_folder] = images_count\n",
    "\n",
    "# Create num_images_per_category based on images_per_plant\n",
    "num_images_per_category = {\n",
    "    '130228': images_per_plant.get('130228', 0),\n",
    "    '47892': images_per_plant.get('47892', 0),\n",
    "    '48537': images_per_plant.get('48537', 0),\n",
    "    '59549': images_per_plant.get('59549', 0),\n",
    "    '914922': images_per_plant.get('914922', 0)\n",
    "}\n",
    "\n",
    "\n",
    "# Print the count of images for each category\n",
    "for plant, count in num_images_per_category.items():\n",
    "    print(f'Number of images for {plant}: {count}')\n"
   ]
  },
  {
   "cell_type": "code",
   "execution_count": 116,
   "metadata": {},
   "outputs": [],
   "source": [
    "# Define the distribution of classes: based on freq of observations,\n",
    "class_distribution = {\n",
    "    47892: 0.3714,\n",
    "    130228: 0.3025,\n",
    "    914922: 0.1638,\n",
    "    59549: 0.0658,\n",
    "    48537: 0.0338,\n",
    "}"
   ]
  },
  {
   "cell_type": "markdown",
   "metadata": {},
   "source": [
    "# Labels"
   ]
  },
  {
   "cell_type": "code",
   "execution_count": 117,
   "metadata": {},
   "outputs": [
    {
     "data": {
      "text/plain": [
       "'\\n# Initialize a set to store unique labels\\nunique_labels = set()\\n\\n# Initialize a dictionary to store label mappings\\nlabel_map = {}\\n\\n# Root directory containing subfolders (taxon IDs)\\nroot_dir = \\'../Downloading_images/data/train\\'\\n\\n# Iterate over each subfolder (taxon ID) in the root directory\\nfor taxon_id in os.listdir(root_dir):\\n    # Check if the entry is a directory and exclude \\'websites\\' folder\\n    if os.path.isdir(os.path.join(root_dir, taxon_id)) and taxon_id != \\'websites\\':\\n        # Add the taxon ID (subfolder name) to the set of unique labels\\n        unique_labels.add(taxon_id)\\n        # Add the taxon ID (subfolder name) to the label mapping with a numerical identifier\\n        label_map[int(taxon_id)] = taxon_id  # You can adjust this based on your actual labels\\n\\n# Calculate the number of unique classes\\nnum_classes = len(unique_labels)\\n\\n# Print the unique plant names (taxon IDs) and number of unique classes\\nprint(\"Unique Plant Names (Taxon IDs):\", unique_labels)\\nprint(\"Number of Unique Classes:\", num_classes)\\n\\n# Print the label mapping\\nprint(\"Label Mapping (Numerical Identifier -> Plant Name/Taxon ID):\", label_map)\\n'"
      ]
     },
     "execution_count": 117,
     "metadata": {},
     "output_type": "execute_result"
    }
   ],
   "source": [
    "'''\n",
    "# Initialize a set to store unique labels\n",
    "unique_labels = set()\n",
    "\n",
    "# Initialize a dictionary to store label mappings\n",
    "label_map = {}\n",
    "\n",
    "# Root directory containing subfolders (taxon IDs)\n",
    "root_dir = '../Downloading_images/data/train'\n",
    "\n",
    "# Iterate over each subfolder (taxon ID) in the root directory\n",
    "for taxon_id in os.listdir(root_dir):\n",
    "    # Check if the entry is a directory and exclude 'websites' folder\n",
    "    if os.path.isdir(os.path.join(root_dir, taxon_id)) and taxon_id != 'websites':\n",
    "        # Add the taxon ID (subfolder name) to the set of unique labels\n",
    "        unique_labels.add(taxon_id)\n",
    "        # Add the taxon ID (subfolder name) to the label mapping with a numerical identifier\n",
    "        label_map[int(taxon_id)] = taxon_id  # You can adjust this based on your actual labels\n",
    "\n",
    "# Calculate the number of unique classes\n",
    "num_classes = len(unique_labels)\n",
    "\n",
    "# Print the unique plant names (taxon IDs) and number of unique classes\n",
    "print(\"Unique Plant Names (Taxon IDs):\", unique_labels)\n",
    "print(\"Number of Unique Classes:\", num_classes)\n",
    "\n",
    "# Print the label mapping\n",
    "print(\"Label Mapping (Numerical Identifier -> Plant Name/Taxon ID):\", label_map)\n",
    "'''"
   ]
  },
  {
   "cell_type": "code",
   "execution_count": 118,
   "metadata": {},
   "outputs": [
    {
     "name": "stdout",
     "output_type": "stream",
     "text": [
      "The category '48537' has the fewest images with 1034 images.\n"
     ]
    }
   ],
   "source": [
    "# Find the category with the fewest images\n",
    "min_category = min(num_images_per_category, key=num_images_per_category.get)\n",
    "\n",
    "# Get the count of images for the category with the fewest images\n",
    "min_count = num_images_per_category[min_category]\n",
    "\n",
    "print(f\"The category '{min_category}' has the fewest images with {min_count} images.\")"
   ]
  },
  {
   "cell_type": "code",
   "execution_count": 119,
   "metadata": {},
   "outputs": [],
   "source": [
    "# Define your image transformations\n",
    "transform = transforms.Compose([\n",
    "    transforms.Resize((224, 224)),  # Resize images to 224x224\n",
    "    transforms.ToTensor(),           # Convert images to PyTorch tensors\n",
    "    transforms.Normalize(mean=[0.485, 0.456, 0.406], std=[0.229, 0.224, 0.225])  # Normalize images\n",
    "])"
   ]
  },
  {
   "cell_type": "code",
   "execution_count": 120,
   "metadata": {},
   "outputs": [],
   "source": [
    "# Define batch size\n",
    "batch_size = 32"
   ]
  },
  {
   "cell_type": "code",
   "execution_count": 121,
   "metadata": {},
   "outputs": [],
   "source": [
    "def custom_collate(batch):\n",
    "    images, labels = zip(*batch)\n",
    "    images = [transform(img) for img in images]  # Apply transform to each PIL Image\n",
    "    images = torch.stack(images)\n",
    "    labels = torch.tensor(labels)\n",
    "    return images, labels"
   ]
  },
  {
   "cell_type": "code",
   "execution_count": 122,
   "metadata": {},
   "outputs": [],
   "source": [
    "# Create DataLoader with custom collate function\n",
    "train_dataloader = DataLoader(train_dataset, batch_size=batch_size, shuffle=True, collate_fn=custom_collate)"
   ]
  },
  {
   "cell_type": "code",
   "execution_count": 123,
   "metadata": {},
   "outputs": [],
   "source": [
    "# Create DataLoader with custom collate function\n",
    "val_dataloader = DataLoader(val_dataset, batch_size=batch_size, shuffle=True, collate_fn=custom_collate)"
   ]
  },
  {
   "cell_type": "code",
   "execution_count": 124,
   "metadata": {},
   "outputs": [],
   "source": [
    "# Create DataLoader with custom collate function\n",
    "test_dataloader = DataLoader(test_dataset, batch_size=batch_size, shuffle=True, collate_fn=custom_collate)"
   ]
  },
  {
   "cell_type": "markdown",
   "metadata": {},
   "source": [
    "# Setup classifier"
   ]
  },
  {
   "cell_type": "code",
   "execution_count": 125,
   "metadata": {},
   "outputs": [],
   "source": [
    "# great paper https://www.ncbi.nlm.nih.gov/pmc/articles/PMC8747718/ "
   ]
  },
  {
   "cell_type": "markdown",
   "metadata": {},
   "source": [
    "## Setup the model architecture"
   ]
  },
  {
   "cell_type": "code",
   "execution_count": 126,
   "metadata": {},
   "outputs": [
    {
     "data": {
      "text/plain": [
       "' very advanced model\\nclass PlantClassifier(nn.Module):\\n    def __init__(self, num_classes):\\n        super(PlantClassifier, self).__init__()\\n        # Define convolutional blocks\\n        self.conv_block = nn.Sequential(\\n            nn.Conv2d(in_channels=3, out_channels=16, kernel_size=3, stride=1, padding=1),\\n            nn.ReLU(),\\n            nn.MaxPool2d(kernel_size=2, stride=2),\\n            nn.Conv2d(in_channels=16, out_channels=32, kernel_size=3, stride=1, padding=1),\\n            nn.ReLU(),\\n            nn.MaxPool2d(kernel_size=2, stride=2),\\n            nn.Conv2d(in_channels=32, out_channels=64, kernel_size=3, stride=1, padding=1),\\n            nn.ReLU(),\\n            nn.MaxPool2d(kernel_size=2, stride=2)\\n        )\\n        # Define fully connected layers\\n        self.fc = nn.Linear(64 * 28 * 28, num_classes)  # Adjust input size based on final feature map size\\n\\n    def forward(self, x):\\n        # Forward pass through convolutional blocks\\n        x = self.conv_block(x)\\n        # Flatten the output for fully connected layer\\n        x = x.view(-1, 64 * 28 * 28)  # Adjust based on final feature map size\\n        # Pass through fully connected layer\\n        out = self.fc(x)\\n        return out\\n\\n# Load pre-trained VGG16 model\\nvgg16 = models.vgg16()\\n\\n# Modify the fully connected layer for plant classification\\nvgg16.classifier[-1] = nn.Linear(in_features=4096, out_features=num_classes)\\n\\n# Optionally freeze pre-trained layers\\n# for param in vgg16.features.parameters():\\n#     param.requires_grad = False\\n\\n# Define your own classifier and its optimizer and loss function\\nmodel = PlantClassifier(num_classes=num_classes)\\noptimizer = optim.Adam(model.parameters(), lr=0.001)\\ncriterion = nn.CrossEntropyLoss()\\n\\n# Combine VGG16 convolutional base with your custom classifier\\nclass CombinedModel(nn.Module):\\n    def __init__(self, vgg, custom_classifier):\\n        super(CombinedModel, self).__init__()\\n        self.vgg = vgg.features  # Only taking the convolutional layers\\n        self.custom_classifier = custom_classifier\\n\\n    def forward(self, x):\\n        x = self.vgg(x)\\n        x = x.view(x.size(0), -1)\\n        x = self.custom_classifier(x)\\n        return x\\n\\n# Instantiate the combined model\\ncombined_model = CombinedModel(vgg16, model)\\n\\n# Define optimizer and loss function for the combined model\\noptimizer = optim.Adam(combined_model.parameters(), lr=0.001)\\ncriterion = nn.CrossEntropyLoss()\\n'"
      ]
     },
     "execution_count": 126,
     "metadata": {},
     "output_type": "execute_result"
    }
   ],
   "source": [
    "''' very advanced model\n",
    "class PlantClassifier(nn.Module):\n",
    "    def __init__(self, num_classes):\n",
    "        super(PlantClassifier, self).__init__()\n",
    "        # Define convolutional blocks\n",
    "        self.conv_block = nn.Sequential(\n",
    "            nn.Conv2d(in_channels=3, out_channels=16, kernel_size=3, stride=1, padding=1),\n",
    "            nn.ReLU(),\n",
    "            nn.MaxPool2d(kernel_size=2, stride=2),\n",
    "            nn.Conv2d(in_channels=16, out_channels=32, kernel_size=3, stride=1, padding=1),\n",
    "            nn.ReLU(),\n",
    "            nn.MaxPool2d(kernel_size=2, stride=2),\n",
    "            nn.Conv2d(in_channels=32, out_channels=64, kernel_size=3, stride=1, padding=1),\n",
    "            nn.ReLU(),\n",
    "            nn.MaxPool2d(kernel_size=2, stride=2)\n",
    "        )\n",
    "        # Define fully connected layers\n",
    "        self.fc = nn.Linear(64 * 28 * 28, num_classes)  # Adjust input size based on final feature map size\n",
    "\n",
    "    def forward(self, x):\n",
    "        # Forward pass through convolutional blocks\n",
    "        x = self.conv_block(x)\n",
    "        # Flatten the output for fully connected layer\n",
    "        x = x.view(-1, 64 * 28 * 28)  # Adjust based on final feature map size\n",
    "        # Pass through fully connected layer\n",
    "        out = self.fc(x)\n",
    "        return out\n",
    "\n",
    "# Load pre-trained VGG16 model\n",
    "vgg16 = models.vgg16()\n",
    "\n",
    "# Modify the fully connected layer for plant classification\n",
    "vgg16.classifier[-1] = nn.Linear(in_features=4096, out_features=num_classes)\n",
    "\n",
    "# Optionally freeze pre-trained layers\n",
    "# for param in vgg16.features.parameters():\n",
    "#     param.requires_grad = False\n",
    "\n",
    "# Define your own classifier and its optimizer and loss function\n",
    "model = PlantClassifier(num_classes=num_classes)\n",
    "optimizer = optim.Adam(model.parameters(), lr=0.001)\n",
    "criterion = nn.CrossEntropyLoss()\n",
    "\n",
    "# Combine VGG16 convolutional base with your custom classifier\n",
    "class CombinedModel(nn.Module):\n",
    "    def __init__(self, vgg, custom_classifier):\n",
    "        super(CombinedModel, self).__init__()\n",
    "        self.vgg = vgg.features  # Only taking the convolutional layers\n",
    "        self.custom_classifier = custom_classifier\n",
    "\n",
    "    def forward(self, x):\n",
    "        x = self.vgg(x)\n",
    "        x = x.view(x.size(0), -1)\n",
    "        x = self.custom_classifier(x)\n",
    "        return x\n",
    "\n",
    "# Instantiate the combined model\n",
    "combined_model = CombinedModel(vgg16, model)\n",
    "\n",
    "# Define optimizer and loss function for the combined model\n",
    "optimizer = optim.Adam(combined_model.parameters(), lr=0.001)\n",
    "criterion = nn.CrossEntropyLoss()\n",
    "'''"
   ]
  },
  {
   "cell_type": "code",
   "execution_count": 146,
   "metadata": {},
   "outputs": [],
   "source": [
    "class SimpleCNN(nn.Module):\n",
    "    def __init__(self, num_classes=8):\n",
    "        super(SimpleCNN, self).__init__()\n",
    "        self.conv1 = nn.Conv2d(in_channels=3, out_channels=16, kernel_size=3, stride=1, padding=1)\n",
    "        self.conv2 = nn.Conv2d(in_channels=16, out_channels=32, kernel_size=3, stride=1, padding=1)\n",
    "        self.maxpool = nn.MaxPool2d(kernel_size=2, stride=2)\n",
    "        self.fc = nn.Linear(32 * 56 * 56, num_classes) \n",
    "\n",
    "    def forward(self, x):\n",
    "        x = self.conv1(x)\n",
    "        x = F.relu(x)\n",
    "        x = self.maxpool(x)\n",
    "        x = self.conv2(x)\n",
    "        x = F.relu(x)\n",
    "        x = self.maxpool(x)\n",
    "        x = x.view(-1, 32 * 56 * 56)\n",
    "        x = self.fc(x)\n",
    "        return x\n",
    "\n",
    "class SimpleModel(nn.Module):\n",
    "    def __init__(self, num_classes):\n",
    "        super(SimpleModel, self).__init__()\n",
    "        self.conv1 = nn.Conv2d(in_channels=3, out_channels=16, kernel_size=3, stride=1, padding=1)\n",
    "        self.pool = nn.MaxPool2d(kernel_size=2, stride=2)\n",
    "        self.conv2 = nn.Conv2d(16, 32, 3, 1, 1)\n",
    "        self.fc1 = nn.Linear(32 * 56 * 56, 128)\n",
    "        self.fc2 = nn.Linear(128, num_classes)\n",
    "\n",
    "    def forward(self, x):\n",
    "        x = self.pool(F.relu(self.conv1(x)))\n",
    "        x = self.pool(F.relu(self.conv2(x)))\n",
    "        x = x.view(-1, 32 * 56 * 56)\n",
    "        x = F.relu(self.fc1(x))\n",
    "        x = self.fc2(x)\n",
    "        return x\n",
    "\n",
    "# Instantiate model\n",
    "model = SimpleModel(8)\n",
    "\n",
    "# Define optimizer and loss function\n",
    "optimizer = optim.Adam(model.parameters(), lr=0.001)\n",
    "criterion = nn.CrossEntropyLoss()"
   ]
  },
  {
   "cell_type": "markdown",
   "metadata": {},
   "source": [
    "### Architecture:\n",
    "- The convolutional blocks consist of three convolutional layers, \n",
    "each followed by a ReLU activation and a max pooling layer. \n",
    "- This helps in extracting hierarchical features from the input images.\n",
    "-The output feature maps are downsampled through max pooling layers, \n",
    "ensuring consistent output shapes regardless of the input size.\n",
    "- The fully connected layer's input size is adjusted based on the final \n",
    "feature map size after downsampling."
   ]
  },
  {
   "cell_type": "markdown",
   "metadata": {},
   "source": [
    "# Run the training loop"
   ]
  },
  {
   "cell_type": "code",
   "execution_count": 147,
   "metadata": {},
   "outputs": [],
   "source": [
    "learning_rate = 0.2\n",
    "\n",
    "# Apply dropout regularization\n",
    "dropout_rate = 1  \n",
    "model_dropout = nn.Sequential(\n",
    "    nn.Dropout(dropout_rate),\n",
    "    model\n",
    ")\n",
    "\n",
    "# Apply L2 regularization (weight decay)\n",
    "weight_decay = 2  \n",
    "optimizer = optim.Adam(model.parameters(), lr=learning_rate, weight_decay=weight_decay)"
   ]
  },
  {
   "cell_type": "code",
   "execution_count": 148,
   "metadata": {},
   "outputs": [
    {
     "name": "stdout",
     "output_type": "stream",
     "text": [
      "Epoch 0, Training Loss: 24.7596, Validation Loss: 0.0017, Training Accuracy: 0.9906, Validation Accuracy: 1.0000\n"
     ]
    },
    {
     "ename": "KeyboardInterrupt",
     "evalue": "",
     "output_type": "error",
     "traceback": [
      "\u001b[1;31m---------------------------------------------------------------------------\u001b[0m",
      "\u001b[1;31mKeyboardInterrupt\u001b[0m                         Traceback (most recent call last)",
      "\u001b[1;32m~\\AppData\\Local\\Temp\\ipykernel_15420\\2319677127.py\u001b[0m in \u001b[0;36m<module>\u001b[1;34m\u001b[0m\n\u001b[0;32m     61\u001b[0m             \u001b[0mtotal_train_predictions\u001b[0m \u001b[1;33m+=\u001b[0m \u001b[0mlabels\u001b[0m\u001b[1;33m.\u001b[0m\u001b[0msize\u001b[0m\u001b[1;33m(\u001b[0m\u001b[1;36m0\u001b[0m\u001b[1;33m)\u001b[0m\u001b[1;33m\u001b[0m\u001b[1;33m\u001b[0m\u001b[0m\n\u001b[0;32m     62\u001b[0m \u001b[1;33m\u001b[0m\u001b[0m\n\u001b[1;32m---> 63\u001b[1;33m             \u001b[0mloss\u001b[0m\u001b[1;33m.\u001b[0m\u001b[0mbackward\u001b[0m\u001b[1;33m(\u001b[0m\u001b[1;33m)\u001b[0m\u001b[1;33m\u001b[0m\u001b[1;33m\u001b[0m\u001b[0m\n\u001b[0m\u001b[0;32m     64\u001b[0m             \u001b[0moptimizer\u001b[0m\u001b[1;33m.\u001b[0m\u001b[0mstep\u001b[0m\u001b[1;33m(\u001b[0m\u001b[1;33m)\u001b[0m\u001b[1;33m\u001b[0m\u001b[1;33m\u001b[0m\u001b[0m\n\u001b[0;32m     65\u001b[0m \u001b[1;33m\u001b[0m\u001b[0m\n",
      "\u001b[1;32mc:\\Users\\asche\\anaconda3\\envs\\ailab\\lib\\site-packages\\torch\\_tensor.py\u001b[0m in \u001b[0;36mbackward\u001b[1;34m(self, gradient, retain_graph, create_graph, inputs)\u001b[0m\n\u001b[0;32m    487\u001b[0m             )\n\u001b[0;32m    488\u001b[0m         torch.autograd.backward(\n\u001b[1;32m--> 489\u001b[1;33m             \u001b[0mself\u001b[0m\u001b[1;33m,\u001b[0m \u001b[0mgradient\u001b[0m\u001b[1;33m,\u001b[0m \u001b[0mretain_graph\u001b[0m\u001b[1;33m,\u001b[0m \u001b[0mcreate_graph\u001b[0m\u001b[1;33m,\u001b[0m \u001b[0minputs\u001b[0m\u001b[1;33m=\u001b[0m\u001b[0minputs\u001b[0m\u001b[1;33m\u001b[0m\u001b[1;33m\u001b[0m\u001b[0m\n\u001b[0m\u001b[0;32m    490\u001b[0m         )\n\u001b[0;32m    491\u001b[0m \u001b[1;33m\u001b[0m\u001b[0m\n",
      "\u001b[1;32mc:\\Users\\asche\\anaconda3\\envs\\ailab\\lib\\site-packages\\torch\\autograd\\__init__.py\u001b[0m in \u001b[0;36mbackward\u001b[1;34m(tensors, grad_tensors, retain_graph, create_graph, grad_variables, inputs)\u001b[0m\n\u001b[0;32m    197\u001b[0m     Variable._execution_engine.run_backward(  # Calls into the C++ engine to run the backward pass\n\u001b[0;32m    198\u001b[0m         \u001b[0mtensors\u001b[0m\u001b[1;33m,\u001b[0m \u001b[0mgrad_tensors_\u001b[0m\u001b[1;33m,\u001b[0m \u001b[0mretain_graph\u001b[0m\u001b[1;33m,\u001b[0m \u001b[0mcreate_graph\u001b[0m\u001b[1;33m,\u001b[0m \u001b[0minputs\u001b[0m\u001b[1;33m,\u001b[0m\u001b[1;33m\u001b[0m\u001b[1;33m\u001b[0m\u001b[0m\n\u001b[1;32m--> 199\u001b[1;33m         allow_unreachable=True, accumulate_grad=True)  # Calls into the C++ engine to run the backward pass\n\u001b[0m\u001b[0;32m    200\u001b[0m \u001b[1;33m\u001b[0m\u001b[0m\n\u001b[0;32m    201\u001b[0m def grad(\n",
      "\u001b[1;31mKeyboardInterrupt\u001b[0m: "
     ]
    }
   ],
   "source": [
    "# Define the number of epochs and early stopping parameters\n",
    "num_epochs = 25\n",
    "patience = 3  # Number of epochs to wait for improvement\n",
    "best_val_loss = float('inf')\n",
    "early_stopping_counter = 0\n",
    "\n",
    "# Lists to store training and validation losses and accuracies\n",
    "train_losses = []\n",
    "val_losses = []\n",
    "train_accuracies = []\n",
    "val_accuracies = []\n",
    "\n",
    "# Define the directory where the models and losses will be saved\n",
    "models_directory = \"./models/\"\n",
    "\n",
    "# Ensure the directory exists, create it if it doesn't\n",
    "if not os.path.exists(models_directory):\n",
    "    os.makedirs(models_directory)\n",
    "\n",
    "# Define the filename for the CSV file containing the losses\n",
    "losses_file = f\"./models/first_losses.csv\"\n",
    "\n",
    "# Open the file in write mode ('w') with newline='' to prevent extra newline characters\n",
    "with open(losses_file, 'w', newline='') as file:\n",
    "    # Create a CSV writer object\n",
    "    writer = csv.writer(file)\n",
    "    \n",
    "    # Write header\n",
    "    writer.writerow(['Epoch', 'Train Loss', 'Val Loss'])\n",
    "\n",
    "    # Training loop\n",
    "    for epoch in range(num_epochs):\n",
    "        # Training phase\n",
    "        model.train()\n",
    "        train_loss = 0.0\n",
    "        correct_train_predictions = 0\n",
    "        total_train_predictions = 0\n",
    "\n",
    "        for images, _ in train_dataloader:\n",
    "            optimizer.zero_grad()\n",
    "            \n",
    "            # Try to load images, skip if there's an error\n",
    "            try:\n",
    "                outputs = model(images)\n",
    "            except Exception as e:\n",
    "                if \"cannot identify image file\" in str(e):\n",
    "                    print(f\"Skipping image due to error: {e}\")\n",
    "                    continue\n",
    "                else:\n",
    "                    raise  # Re-raise the exception if it's not the expected one\n",
    "            \n",
    "            label_value = 0  # or any other label you want to assign\n",
    "            labels = torch.full((images.size(0),), label_value, dtype=torch.long)\n",
    "\n",
    "            loss = F.cross_entropy(outputs, labels)\n",
    "            train_loss += loss.item()\n",
    "            \n",
    "            # Calculate training accuracy\n",
    "            _, predicted = torch.max(outputs, 1)\n",
    "            correct_train_predictions += (predicted == labels).sum().item()\n",
    "            total_train_predictions += labels.size(0)\n",
    "\n",
    "            loss.backward()\n",
    "            optimizer.step()\n",
    "\n",
    "        # Calculate average training loss and accuracy\n",
    "        train_loss /= len(train_dataloader)\n",
    "        train_accuracy = correct_train_predictions / total_train_predictions\n",
    "\n",
    "        # Validation phase\n",
    "        model.eval()\n",
    "        val_loss = 0.0\n",
    "        correct_val_predictions = 0\n",
    "        total_val_predictions = 0\n",
    "\n",
    "        with torch.no_grad():\n",
    "            for images, _ in val_dataloader:\n",
    "                outputs = model(images)\n",
    "                \n",
    "                # For simplicity, let's assume the label for all images is 0\n",
    "                labels = torch.zeros(images.size(0), dtype=torch.long)  # Batch size number of zeros\n",
    "                \n",
    "                loss = F.cross_entropy(outputs, labels)\n",
    "                val_loss += loss.item()\n",
    "\n",
    "                # Calculate validation accuracy\n",
    "                _, predicted = torch.max(outputs, 1)\n",
    "                correct_val_predictions += (predicted == labels).sum().item()\n",
    "                total_val_predictions += labels.size(0)\n",
    "\n",
    "        # Calculate average validation loss and accuracy\n",
    "        val_loss /= len(val_dataloader)\n",
    "        val_accuracy = correct_val_predictions / total_val_predictions\n",
    "\n",
    "        # Save training and validation losses and accuracies\n",
    "        train_losses.append(train_loss)\n",
    "        val_losses.append(val_loss)\n",
    "        train_accuracies.append(train_accuracy)\n",
    "        val_accuracies.append(val_accuracy)\n",
    "\n",
    "        # Save training and validation losses to the CSV file\n",
    "        writer.writerow([epoch, train_loss, val_loss])\n",
    "\n",
    "        # Check for early stopping based on validation loss\n",
    "        if val_loss < best_val_loss:\n",
    "            best_val_loss = val_loss\n",
    "            early_stopping_counter = 0\n",
    "        else:\n",
    "            early_stopping_counter += 1\n",
    "            if early_stopping_counter >= patience:\n",
    "                print(f\"Early stopping at epoch {epoch}\")\n",
    "                break\n",
    "\n",
    "        # Save the trained model in the \"./models\" folder\n",
    "        torch.save(model.state_dict(), f\"./models/first_model.pth\")       \n",
    "\n",
    "        # Print training and validation loss and accuracy\n",
    "        print(f'Epoch {epoch}, Training Loss: {train_loss:.4f}, Validation Loss: {val_loss:.4f}, '\n",
    "              f'Training Accuracy: {train_accuracy:.4f}, Validation Accuracy: {val_accuracy:.4f}')\n"
   ]
  },
  {
   "cell_type": "markdown",
   "metadata": {},
   "source": [
    "## Loss curve & accuracy curve"
   ]
  },
  {
   "cell_type": "code",
   "execution_count": 135,
   "metadata": {},
   "outputs": [
    {
     "data": {
      "image/png": "[encoded data removed]",
      "text/plain": [
       "<Figure size 1200x500 with 2 Axes>"
      ]
     },
     "metadata": {},
     "output_type": "display_data"
    }
   ],
   "source": [
    "# Optional: Smoothing the loss curves for better visualization\n",
    "def smooth_curve(points, factor=0.9):\n",
    "    smoothed_points = []\n",
    "    for point in points:\n",
    "        if smoothed_points:\n",
    "            previous = smoothed_points[-1]\n",
    "            smoothed_points.append(previous * factor + point * (1 - factor))\n",
    "        else:\n",
    "            smoothed_points.append(point)\n",
    "    return smoothed_points\n",
    "\n",
    "smooth_train_losses = smooth_curve(train_losses)\n",
    "smooth_val_losses = smooth_curve(val_losses)\n",
    "\n",
    "# Plotting training and validation losses\n",
    "plt.figure(figsize=(12, 5))\n",
    "plt.subplot(1, 2, 1)\n",
    "plt.plot(smooth_train_losses, label='Smoothed Training Loss')\n",
    "plt.plot(smooth_val_losses, label='Smoothed Validation Loss')\n",
    "plt.xlabel('Epoch')\n",
    "plt.ylabel('Loss')\n",
    "plt.title('Training and Validation Loss Over Epochs')\n",
    "plt.legend()\n",
    "\n",
    "# Plotting training and validation accuracies\n",
    "plt.subplot(1, 2, 2)\n",
    "plt.plot(train_accuracies, label='Training Accuracy')\n",
    "plt.plot(val_accuracies, label='Validation Accuracy')\n",
    "plt.xlabel('Epoch')\n",
    "plt.ylabel('Accuracy')\n",
    "plt.title('Training and Validation Accuracy Over Epochs')\n",
    "plt.legend()\n",
    "\n",
    "plt.tight_layout()\n",
    "plt.show()"
   ]
  },
  {
   "cell_type": "markdown",
   "metadata": {},
   "source": [
    "# Testing"
   ]
  },
  {
   "cell_type": "code",
   "execution_count": 130,
   "metadata": {},
   "outputs": [
    {
     "name": "stdout",
     "output_type": "stream",
     "text": [
      "Test Loss: 0.0, Accuracy: 100.00%\n"
     ]
    }
   ],
   "source": [
    "# Testing phase\n",
    "model.eval()\n",
    "test_loss = 0.0\n",
    "correct_predictions = 0\n",
    "total_predictions = 0\n",
    "\n",
    "with torch.no_grad():\n",
    "    for images, labels in test_dataloader:  # Assuming you have a separate test dataloader\n",
    "        outputs = model(images)\n",
    "\n",
    "        # For simplicity, let's assume the label for all images is 0\n",
    "        labels = torch.zeros(images.size(0), dtype=torch.long)  # Batch size number of zeros\n",
    "        \n",
    "        # Calculate loss\n",
    "        # Ensure labels are converted to tensors if needed\n",
    "        # Assuming labels are already tensors, but if not, you can convert them like this:\n",
    "        # labels = torch.tensor(labels, dtype=torch.long)\n",
    "        loss = criterion(outputs, labels)\n",
    "        test_loss += loss.item()\n",
    "        \n",
    "        # Calculate accuracy\n",
    "        _, predicted = torch.max(outputs, 1)  # Get the index of the maximum output\n",
    "        correct_predictions += (predicted == labels).sum().item()\n",
    "        total_predictions += labels.size(0)\n",
    "\n",
    "# Calculate average test loss\n",
    "test_loss /= len(test_dataloader)\n",
    "\n",
    "# Calculate accuracy\n",
    "accuracy = correct_predictions / total_predictions\n",
    "\n",
    "# Print test loss and accuracy\n",
    "print(f'Test Loss: {test_loss}, Accuracy: {accuracy * 100:.2f}%')\n"
   ]
  },
  {
   "cell_type": "code",
   "execution_count": 138,
   "metadata": {},
   "outputs": [
    {
     "name": "stdout",
     "output_type": "stream",
     "text": [
      "Class 0: 100.00%\n",
      "Class 1: 0.00%\n",
      "Class 2: 0.00%\n",
      "Class 3: 0.00%\n",
      "Class 4: 0.00%\n",
      "Class 5: 0.00%\n",
      "Class 6: 0.00%\n",
      "Class 7: 0.00%\n"
     ]
    }
   ],
   "source": [
    "# Load the saved model\n",
    "state_dict = torch.load('./models/first_model.pth')  # Load the state dictionary\n",
    "\n",
    "# Instantiate your model\n",
    "model = SimpleCNN()\n",
    "\n",
    "# Load the state dictionary into the model\n",
    "model.load_state_dict(state_dict)\n",
    "\n",
    "# Define transformations for preprocessing the input image\n",
    "transform = transforms.Compose([\n",
    "    transforms.Resize((224, 224)),  # Resize to match the input size of the model\n",
    "    transforms.ToTensor(),  # Convert image to tensor\n",
    "    transforms.Normalize(mean=[0.485, 0.456, 0.406], std=[0.229, 0.224, 0.225])  # Normalize\n",
    "])\n",
    "\n",
    "# Load and preprocess the image\n",
    "# image_path = './images/test_image.jpg'\n",
    "image_path = './images/Spiraea.jpg'\n",
    "image = Image.open(image_path)\n",
    "image = transform(image).unsqueeze(0)  # Add batch dimension\n",
    "\n",
    "# Set the model to evaluation mode\n",
    "model.eval()\n",
    "\n",
    "# Pass the image through the model\n",
    "with torch.no_grad():\n",
    "    outputs = model(image)\n",
    "\n",
    "# Apply softmax activation to get probabilities\n",
    "probabilities = torch.nn.functional.softmax(outputs, dim=1)\n",
    "\n",
    "# Convert probabilities to percentages\n",
    "probabilities = probabilities.squeeze().numpy() * 100\n",
    "\n",
    "# Print the probability estimates for each class\n",
    "for i, probability in enumerate(probabilities):\n",
    "    print(f'Class {i}: {probability:.2f}%')\n"
   ]
  },
  {
   "cell_type": "code",
   "execution_count": 139,
   "metadata": {},
   "outputs": [],
   "source": [
    "# Load and preprocess the image\n",
    "image_path = './images/Spiraea.jpg'\n",
    "image = Image.open(image_path)\n",
    "image = transform(image).unsqueeze(0)  # Add batch dimension\n"
   ]
  },
  {
   "cell_type": "code",
   "execution_count": 140,
   "metadata": {},
   "outputs": [
    {
     "name": "stdout",
     "output_type": "stream",
     "text": [
      "Image shape after preprocessing: torch.Size([1, 3, 224, 224])\n"
     ]
    }
   ],
   "source": [
    "print(\"Image shape after preprocessing:\", image.shape)\n"
   ]
  },
  {
   "cell_type": "code",
   "execution_count": 136,
   "metadata": {},
   "outputs": [
    {
     "data": {
      "text/plain": [
       "'\\nClasses and Label Encoding:\\nClass: 130228, Label Encoding: [1, 0, 0, 0, 0, 0, 0, 0]\\nClass: 47892, Label Encoding: [0, 1, 0, 0, 0, 0, 0, 0]\\nClass: 48537, Label Encoding: [0, 0, 1, 0, 0, 0, 0, 0]\\nClass: 48681, Label Encoding: [0, 0, 0, 1, 0, 0, 0, 0]\\nClass: 593040, Label Encoding: [0, 0, 0, 0, 1, 0, 0, 0]\\nClass: 59549, Label Encoding: [0, 0, 0, 0, 0, 1, 0, 0]\\nClass: 83653, Label Encoding: [0, 0, 0, 0, 0, 0, 1, 0]\\nClass: 914922, Label Encoding: [0, 0, 0, 0, 0, 0, 0, 1]\\n'"
      ]
     },
     "execution_count": 136,
     "metadata": {},
     "output_type": "execute_result"
    }
   ],
   "source": [
    "'''\n",
    "\n",
    "Impatiens glandulifera\n",
    "Blomsterlupin\n",
    "Link\n",
    "47892\n",
    "\n",
    "Heracleum mantegazzianum\n",
    "Sandlupin\n",
    "Link\n",
    "130228\n",
    "\n",
    "Reynoutria japonica\n",
    "Parkslide\n",
    "Link\n",
    "914922\n",
    "\n",
    "Lupinus polyphyllus\n",
    "Jätteslide\n",
    "Link\n",
    "59549\n",
    "\n",
    "Lysichiton americanus\n",
    "Hybridslide\n",
    "Link\n",
    "48537\n",
    "\n",
    "Rosa rugosa\n",
    "Kaukasiskt fetblad\n",
    "Link\n",
    "83653\n",
    "\n",
    "Reynoutria sachalinensis\n",
    "Sibiriskt fetblad\n",
    "Link\n",
    "593040\n",
    "\n",
    "Spiraea\n",
    "Spärroxbär\n",
    "Link\n",
    "48681\n",
    "\n",
    "'''"
   ]
  },
  {
   "cell_type": "markdown",
   "metadata": {},
   "source": [
    "# Decomposition of Images\n",
    "\n",
    "## Feature Extraction:\n",
    "\n",
    "### Texture Analysis: \n",
    "Extract texture features from the images to capture patterns and structures present in different regions of the plants.<br> \n",
    "local binary patterns (LBP) for characterizing plant textures.<br> \n",
    "\n",
    "### Color Features: \n",
    "Since your images are RGB, you can extract color features to represent the color distribution of different plant parts. <br> \n",
    "This could involve techniques such as color histograms, color moments, or color channel statistics (mean, variance, etc.).<br> \n",
    "\n",
    "### Shape and Structure Features: \n",
    "Extract features related to the shape and structure of plants. <br> \n",
    "This could include features like shape descriptors (e.g., Hu moments, Fourier descriptors), <br> \n",
    "morphological features (e.g., area, perimeter, compactness), or structural features (e.g., skeletonization, contour analysis).<br> \n",
    "\n",
    "### Deep Learning-based Features: \n",
    "Utilize pre-trained deep learning models (e.g., convolutional neural networks) <br> \n",
    "for feature extraction. You can use models like VGG, ResNet, or MobileNet to extract high-level <br> \n",
    "features from the images, either by using the activations of intermediate layers as features or <br> \n",
    "by fine-tuning the model for your specific task.<br> \n",
    "\n",
    "## Integration with Bayesian Modeling:\n",
    "Once you've extracted relevant features from the images, integrate them into your Bayesian modeling framework.<br> \n",
    "Assign hierarchical Bayesian priors to these extracted features <br> \n",
    "to capture their relationships and variability across different plant species or conditions.<br> \n",
    "Model the segmentation task using these features, either by directly incorporating them into <br> \n",
    "your segmentation model or by using them as inputs to guide the segmentation process.<br> \n",
    "\n",
    "## Inference and Segmentation:\n",
    "Develop a statistical framework for inferring the posterior distributions <br> \n",
    "of the explainable variables (e.g., segmentation masks) based on <br> \n",
    "the observed data (images) and the extracted features.<br> \n",
    "\n",
    "Utilize Bayesian inference techniques to update the posterior distributions iteratively, <br> \n",
    "taking into account both the observed data and prior knowledge encoded in the Bayesian priors.<br> \n",
    "Segment the images into meaningful regions or features based on the inferred posterior <br> \n",
    "distributions, using techniques such as thresholding, clustering, or region-growing algorithms.<br> "
   ]
  },
  {
   "cell_type": "code",
   "execution_count": 50,
   "metadata": {},
   "outputs": [
    {
     "ename": "NameError",
     "evalue": "name 'cv2' is not defined",
     "output_type": "error",
     "traceback": [
      "\u001b[1;31m---------------------------------------------------------------------------\u001b[0m",
      "\u001b[1;31mNameError\u001b[0m                                 Traceback (most recent call last)",
      "\u001b[1;32m~\\AppData\\Local\\Temp\\ipykernel_15420\\3152143903.py\u001b[0m in \u001b[0;36m<module>\u001b[1;34m\u001b[0m\n\u001b[0;32m     10\u001b[0m \u001b[1;33m\u001b[0m\u001b[0m\n\u001b[0;32m     11\u001b[0m \u001b[1;31m# Load the test image\u001b[0m\u001b[1;33m\u001b[0m\u001b[1;33m\u001b[0m\u001b[1;33m\u001b[0m\u001b[0m\n\u001b[1;32m---> 12\u001b[1;33m \u001b[0mtest_image\u001b[0m \u001b[1;33m=\u001b[0m \u001b[0mcv2\u001b[0m\u001b[1;33m.\u001b[0m\u001b[0mimread\u001b[0m\u001b[1;33m(\u001b[0m\u001b[0mtest_image_path\u001b[0m\u001b[1;33m,\u001b[0m \u001b[0mcv2\u001b[0m\u001b[1;33m.\u001b[0m\u001b[0mIMREAD_GRAYSCALE\u001b[0m\u001b[1;33m)\u001b[0m\u001b[1;33m\u001b[0m\u001b[1;33m\u001b[0m\u001b[0m\n\u001b[0m\u001b[0;32m     13\u001b[0m \u001b[1;33m\u001b[0m\u001b[0m\n\u001b[0;32m     14\u001b[0m \u001b[1;31m# Compute LBP for the test image\u001b[0m\u001b[1;33m\u001b[0m\u001b[1;33m\u001b[0m\u001b[1;33m\u001b[0m\u001b[0m\n",
      "\u001b[1;31mNameError\u001b[0m: name 'cv2' is not defined"
     ]
    }
   ],
   "source": [
    "\n",
    "# Define parameters for LBP computation\n",
    "radius = 1\n",
    "num_points = 8 * radius\n",
    "\n",
    "# Path to the directory containing your images\n",
    "dataset_directory = 'C:/Users/asche/OneDrive/Skrivebord/invasive_plant_classifier/Downloading_images/data/'\n",
    "\n",
    "# Select one image for testing (change the folder and file names as needed)\n",
    "test_image_path = os.path.join(dataset_directory, 'train', '234523', 'example_image.jpg')\n",
    "\n",
    "# Load the test image\n",
    "test_image = cv2.imread(test_image_path, cv2.IMREAD_GRAYSCALE)\n",
    "\n",
    "# Compute LBP for the test image\n",
    "lbp_image = cv2.LBP(test_image, radius, num_points, cv2.LBP_UNIFORM)\n",
    "\n",
    "# Display the original and LBP images for visual inspection\n",
    "cv2.imshow('Original Image', test_image)\n",
    "cv2.imshow('LBP Image', lbp_image)\n",
    "cv2.waitKey(0)\n",
    "cv2.destroyAllWindows()\n"
   ]
  },
  {
   "cell_type": "code",
   "execution_count": null,
   "metadata": {},
   "outputs": [],
   "source": [
    "'''\n",
    "# Define parameters for LBP computation\n",
    "radius = 1\n",
    "num_points = 8 * radius\n",
    "\n",
    "# Path to the directory containing your images\n",
    "dataset_directory = 'C:/Users/asche/OneDrive/Skrivebord/invasive_plant_classifier/Downloading_images/data/'\n",
    "\n",
    "# List to store LBP features for all images\n",
    "all_lbp_features = []\n",
    "\n",
    "# Loop through each subfolder in the dataset directory\n",
    "for root, dirs, files in os.walk(dataset_directory):\n",
    "    for dir in dirs:\n",
    "        # Check if the subfolder contains image files\n",
    "        image_folder = os.path.join(root, dir)\n",
    "        if len(os.listdir(image_folder)) == 0:\n",
    "            continue  # Skip empty folders\n",
    "        \n",
    "        # Loop through each image file in the subfolder\n",
    "        for filename in os.listdir(image_folder):\n",
    "            if filename.endswith('.jpg') or filename.endswith('.png'):  # Adjust file extensions as needed\n",
    "                # Load the image\n",
    "                image_path = os.path.join(image_folder, filename)\n",
    "                image = cv2.imread(image_path, cv2.IMREAD_GRAYSCALE)\n",
    "\n",
    "                # Compute LBP for the image\n",
    "                lbp = cv2.LBP(image, radius, num_points, cv2.LBP_UNIFORM)\n",
    "                all_lbp_features.append(lbp)\n",
    "\n",
    "# Convert the list of features to a numpy array\n",
    "all_lbp_features = np.array(all_lbp_features)\n",
    "\n",
    "# Now you have the LBP features for all images in your dataset\n",
    "print(\"Shape of LBP features array:\", all_lbp_features.shape)\n",
    "'''"
   ]
  }
 ],
 "metadata": {
  "kernelspec": {
   "display_name": "ailab",
   "language": "python",
   "name": "python3"
  },
  "language_info": {
   "codemirror_mode": {
    "name": "ipython",
    "version": 3
   },
   "file_extension": ".py",
   "mimetype": "text/x-python",
   "name": "python",
   "nbconvert_exporter": "python",
   "pygments_lexer": "ipython3",
   "version": "3.7.12"
  }
 },
 "nbformat": 4,
 "nbformat_minor": 2
}

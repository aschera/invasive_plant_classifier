{
 "cells": [
  {
   "cell_type": "code",
   "execution_count": 1,
   "metadata": {},
   "outputs": [],
   "source": [
    "import pandas as pd\n",
    "import pyarrow.parquet as pq\n",
    "from dask import dataframe as dd\n",
    "import time\n",
    "import dask.dataframe as dd\n",
    "import requests\n",
    "import os\n",
    "import dask.array as da\n",
    "import os\n",
    "import requests\n",
    "import shutil\n",
    "import dask.dataframe as dd\n",
    "import time\n"
   ]
  },
  {
   "cell_type": "code",
   "execution_count": 2,
   "metadata": {},
   "outputs": [],
   "source": [
    "dask_photo_df = dd.read_csv('../Downloading_images/photos.csv/photos.csv')"
   ]
  },
  {
   "cell_type": "code",
   "execution_count": 3,
   "metadata": {},
   "outputs": [],
   "source": [
    "# Split the single column into multiple columns using the separator '\\t'\n",
    "dask_photos_df_split = dask_photo_df[dask_photo_df.columns[0]].str.split('\\t', n=8, expand=True)\n",
    "\n",
    "# Define column names\n",
    "column_names = ['photo_uuid', 'photo_id', 'observation_uuid', 'observer_id', 'extension', 'license', 'width', 'height', 'position']\n",
    "\n",
    "# Rename columns\n",
    "dask_photos_df_split.columns = column_names\n",
    "\n",
    "# Define meta for the taxon_id column\n",
    "meta = ('photo_id', 'float64')\n",
    "\n",
    "# Convert taxon_id to numeric using apply with meta\n",
    "dask_photos_df_split['photo_id'] = dask_photos_df_split['photo_id'].apply(pd.to_numeric, errors='coerce', meta=meta)\n",
    "\n",
    "# Drop rows with NaN in taxon_id column\n",
    "dask_photos_df_split = dask_photos_df_split.dropna(subset=['photo_id'])"
   ]
  },
  {
   "cell_type": "code",
   "execution_count": 4,
   "metadata": {},
   "outputs": [
    {
     "data": {
      "text/html": [
       "<div>\n",
       "<style scoped>\n",
       "    .dataframe tbody tr th:only-of-type {\n",
       "        vertical-align: middle;\n",
       "    }\n",
       "\n",
       "    .dataframe tbody tr th {\n",
       "        vertical-align: top;\n",
       "    }\n",
       "\n",
       "    .dataframe thead th {\n",
       "        text-align: right;\n",
       "    }\n",
       "</style>\n",
       "<table border=\"1\" class=\"dataframe\">\n",
       "  <thead>\n",
       "    <tr style=\"text-align: right;\">\n",
       "      <th></th>\n",
       "      <th>photo_uuid</th>\n",
       "      <th>photo_id</th>\n",
       "      <th>observation_uuid</th>\n",
       "      <th>observer_id</th>\n",
       "      <th>extension</th>\n",
       "      <th>license</th>\n",
       "      <th>width</th>\n",
       "      <th>height</th>\n",
       "      <th>position</th>\n",
       "    </tr>\n",
       "  </thead>\n",
       "  <tbody>\n",
       "    <tr>\n",
       "      <th>0</th>\n",
       "      <td>8d6b2534-d30a-47a8-bc1c-986a21817997</td>\n",
       "      <td>21213</td>\n",
       "      <td>7ae155fc-f49e-4e4f-91c5-51e31e805478</td>\n",
       "      <td>516</td>\n",
       "      <td>jpg</td>\n",
       "      <td>CC-BY-NC</td>\n",
       "      <td>584</td>\n",
       "      <td>389</td>\n",
       "      <td>0</td>\n",
       "    </tr>\n",
       "    <tr>\n",
       "      <th>1</th>\n",
       "      <td>6e8112fd-f703-4052-94da-b7cfc03ff3d4</td>\n",
       "      <td>21216</td>\n",
       "      <td>7ae155fc-f49e-4e4f-91c5-51e31e805478</td>\n",
       "      <td>516</td>\n",
       "      <td>jpg</td>\n",
       "      <td>CC-BY-NC</td>\n",
       "      <td>584</td>\n",
       "      <td>389</td>\n",
       "      <td>1</td>\n",
       "    </tr>\n",
       "  </tbody>\n",
       "</table>\n",
       "</div>"
      ],
      "text/plain": [
       "                             photo_uuid  photo_id  \\\n",
       "0  8d6b2534-d30a-47a8-bc1c-986a21817997     21213   \n",
       "1  6e8112fd-f703-4052-94da-b7cfc03ff3d4     21216   \n",
       "\n",
       "                       observation_uuid observer_id extension   license width  \\\n",
       "0  7ae155fc-f49e-4e4f-91c5-51e31e805478         516       jpg  CC-BY-NC   584   \n",
       "1  7ae155fc-f49e-4e4f-91c5-51e31e805478         516       jpg  CC-BY-NC   584   \n",
       "\n",
       "  height position  \n",
       "0    389        0  \n",
       "1    389        1  "
      ]
     },
     "execution_count": 4,
     "metadata": {},
     "output_type": "execute_result"
    }
   ],
   "source": [
    "dask_photos_df_split.head(2) "
   ]
  },
  {
   "cell_type": "code",
   "execution_count": 5,
   "metadata": {},
   "outputs": [],
   "source": [
    "image_dir = '../Downloading_images/data/'"
   ]
  },
  {
   "cell_type": "code",
   "execution_count": 6,
   "metadata": {},
   "outputs": [],
   "source": [
    "\n",
    "# Function to check if an image exists in any subfolder\n",
    "def image_exists_in_subfolders(photo_id):\n",
    "    for root, dirs, files in os.walk(image_dir):\n",
    "        if f'{photo_id}.jpg' in files:\n",
    "            return True\n",
    "    return False"
   ]
  },
  {
   "cell_type": "code",
   "execution_count": 7,
   "metadata": {},
   "outputs": [],
   "source": [
    "# Specify the photo_id you want to search for\n",
    "desired_photo_id = 94354  "
   ]
  },
  {
   "cell_type": "code",
   "execution_count": 9,
   "metadata": {},
   "outputs": [
    {
     "ename": "",
     "evalue": "",
     "output_type": "error",
     "traceback": [
      "\u001b[1;31mThe Kernel crashed while executing code in the current cell or a previous cell. \n",
      "\u001b[1;31mPlease review the code in the cell(s) to identify a possible cause of the failure. \n",
      "\u001b[1;31mClick <a href='https://aka.ms/vscodeJupyterKernelCrash'>here</a> for more info. \n",
      "\u001b[1;31mView Jupyter <a href='command:jupyter.viewOutput'>log</a> for further details."
     ]
    }
   ],
   "source": [
    "# Check if the desired photo_id exists in any subfolder\n",
    "if image_exists_in_subfolders(desired_photo_id):\n",
    "    # If the image exists, find the corresponding row in the DataFrame\n",
    "    desired_rows = dask_photos_df_split[dask_photos_df_split['photo_id'] == desired_photo_id]\n",
    "    if len(desired_rows.index) > 0:\n",
    "        print(desired_rows.compute())  # Compute to get the actual data from Dask DataFrame\n",
    "    else:\n",
    "        print(\"No row found for the specified photo_id.\")\n",
    "else:\n",
    "    print(\"Image not found for the specified photo_id.\")\n"
   ]
  }
 ],
 "metadata": {
  "kernelspec": {
   "display_name": "ailab",
   "language": "python",
   "name": "python3"
  },
  "language_info": {
   "codemirror_mode": {
    "name": "ipython",
    "version": 3
   },
   "file_extension": ".py",
   "mimetype": "text/x-python",
   "name": "python",
   "nbconvert_exporter": "python",
   "pygments_lexer": "ipython3",
   "version": "3.7.12"
  }
 },
 "nbformat": 4,
 "nbformat_minor": 2
}

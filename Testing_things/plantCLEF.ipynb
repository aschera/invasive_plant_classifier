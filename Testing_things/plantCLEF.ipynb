{
 "cells": [
  {
   "cell_type": "code",
   "execution_count": 1,
   "metadata": {},
   "outputs": [],
   "source": [
    "# https://developers.arcgis.com/python/samples/train-a-tensorflow-lite-model-for-identifying-plant-species/"
   ]
  },
  {
   "cell_type": "code",
   "execution_count": 2,
   "metadata": {},
   "outputs": [
    {
     "data": {
      "text/plain": [
       "\"\\n\\nThis module requires fastai, PyTorch, torchvision and scikit-image as its dependencies.\\nInstall them using 'conda install -c esri arcgis=1.8.1 pillow scikit-image'\\n'conda install -c fastai -c pytorch fastai pytorch=1.4.0 torchvision=0.5.0 tensorflow-gpu=2.1.0'\\n'conda install gdal=2.3.3'\\n\\n\""
      ]
     },
     "execution_count": 2,
     "metadata": {},
     "output_type": "execute_result"
    }
   ],
   "source": [
    "'''\n",
    "\n",
    "This module requires fastai, PyTorch, torchvision and scikit-image as its dependencies.\n",
    "Install them using 'conda install -c esri arcgis=1.8.1 pillow scikit-image'\n",
    "'conda install -c fastai -c pytorch fastai pytorch=1.4.0 torchvision=0.5.0 tensorflow-gpu=2.1.0'\n",
    "'conda install gdal=2.3.3'\n",
    "\n",
    "'''\n"
   ]
  },
  {
   "cell_type": "code",
   "execution_count": 3,
   "metadata": {},
   "outputs": [],
   "source": [
    "#  To initialize this nbextension in the browser every time the notebook (or other app) loads:\n",
    "# jupyter nbextension enable arcgis --py --sys-prefix"
   ]
  },
  {
   "cell_type": "code",
   "execution_count": 4,
   "metadata": {},
   "outputs": [
    {
     "name": "stdout",
     "output_type": "stream",
     "text": [
      "env: ARCGIS_ENABLE_TF_BACKEND=1 # set the environment variable for ArcGIS to enable TensorFlow as backend.\n"
     ]
    }
   ],
   "source": [
    "%env ARCGIS_ENABLE_TF_BACKEND=1 # set the environment variable for ArcGIS to enable TensorFlow as backend. "
   ]
  },
  {
   "cell_type": "code",
   "execution_count": 5,
   "metadata": {},
   "outputs": [],
   "source": [
    "# https://developers.arcgis.com/python/api-reference/arcgis.gis.toc.html\n"
   ]
  },
  {
   "cell_type": "code",
   "execution_count": 6,
   "metadata": {},
   "outputs": [],
   "source": [
    "import os\n",
    "import zipfile\n",
    "# import torch\n",
    "# import fastai\n",
    "# import skimage\n",
    "# import torchvision\n",
    "from glob import glob\n",
    "# from PIL import Image\n",
    "from pathlib import Path\n",
    "# from arcgis.gis import GIS\n",
    "# from arcgis.learn import prepare_data, FeatureClassifier"
   ]
  },
  {
   "cell_type": "code",
   "execution_count": 7,
   "metadata": {},
   "outputs": [],
   "source": [
    "# torch.cuda.is_available()"
   ]
  },
  {
   "cell_type": "markdown",
   "metadata": {},
   "source": [
    "# Download Dataset"
   ]
  },
  {
   "cell_type": "code",
   "execution_count": 8,
   "metadata": {},
   "outputs": [],
   "source": [
    "# Initialize GIS\n",
    "# gis = GIS()"
   ]
  },
  {
   "cell_type": "code",
   "execution_count": 9,
   "metadata": {},
   "outputs": [],
   "source": [
    "# Define the item ID of the content\n",
    "item_id = '81932a51f77b4d2d964218a7c5a4af17'"
   ]
  },
  {
   "cell_type": "code",
   "execution_count": 10,
   "metadata": {},
   "outputs": [],
   "source": [
    "# training_data = gis.content.get(item_id)"
   ]
  },
  {
   "cell_type": "code",
   "execution_count": 11,
   "metadata": {},
   "outputs": [
    {
     "data": {
      "text/html": [
       "<div class=\"item_container\" style=\"height: auto; overflow: hidden; border: 1px solid #cfcfcf; border-radius: 2px; background: #f6fafa; line-height: 1.21429em; padding: 10px;\">\n",
       "                    <div class=\"item_left\" style=\"width: 210px; float: left;\">\n",
       "                       <a href='https://www.arcgis.com/home/item.html?id=81932a51f77b4d2d964218a7c5a4af17' target='_blank'>\n",
       "                        <img src='https://www.arcgis.com/sharing/rest//content/items/81932a51f77b4d2d964218a7c5a4af17/info/thumbnail/ago_downloaded.png' class=\"itemThumbnail\">\n",
       "                       </a>\n",
       "                    </div>\n",
       "\n",
       "                    <div class=\"item_right\"     style=\"float: none; width: auto; overflow: hidden;\">\n",
       "                        <a href='https://www.arcgis.com/home/item.html?id=81932a51f77b4d2d964218a7c5a4af17' target='_blank'><b>train_a_tensorflow-lite_model_for_identifying_plant_species</b>\n",
       "                        </a>\n",
       "                        <br/><img src='https://www.arcgis.com/home/js/jsapi/esri/css/images/item_type_icons/layers16.png' style=\"vertical-align:middle;\">Image Collection by api_data_owner\n",
       "                        <br/>Last Modified: December 13, 2020\n",
       "                        <br/>0 comments, 1,014 views\n",
       "                    </div>\n",
       "                </div>\n",
       "                "
      ],
      "text/plain": [
       "<Item title:\"train_a_tensorflow-lite_model_for_identifying_plant_species\" type:Image Collection owner:api_data_owner>"
      ]
     },
     "execution_count": 11,
     "metadata": {},
     "output_type": "execute_result"
    }
   ],
   "source": [
    "# training_data"
   ]
  },
  {
   "cell_type": "markdown",
   "metadata": {},
   "source": [
    "## See if it contains the invasive plats also"
   ]
  },
  {
   "cell_type": "markdown",
   "metadata": {},
   "source": [
    "- from SpeciesObservationsInvasive.csv\n",
    "- see notebook: Nature_data_systematic_species_observations.ipynb"
   ]
  },
  {
   "cell_type": "code",
   "execution_count": 12,
   "metadata": {},
   "outputs": [],
   "source": [
    "invasive_plants = ['Linum bienne', 'Dasya baillouviana', 'Magallana gigas', 'Sargassum muticum',\n",
    " 'Oncorhynchus mykiss', 'Gilia achilleifolia', 'Dasysiphonia japonica',\n",
    " 'Amphibalanus improvisus', 'Pinus contorta', 'Brugmansia suaveolens',\n",
    " 'Gracilaria vermiculophylla', 'Rhizoctonia solani',\n",
    " 'Pacifastacus leniusculus', 'Coreopsis tinctoria', 'Phyteuma nigrum',\n",
    " 'Mentha suaveolens', 'Acer pseudoplatanus', 'Phyteuma spicatum'\n",
    " 'Potamopyrgus antipodarum']"
   ]
  },
  {
   "cell_type": "code",
   "execution_count": 13,
   "metadata": {},
   "outputs": [],
   "source": [
    "# Specify the directory where you want to save the downloaded file\n",
    "download_dir = 'C:/Users/asche/plants/data'\n",
    "\n",
    "# Specify the file path where you want to save the downloaded file\n",
    "# file_name = training_data.name\n",
    "file_path = os.path.join(download_dir, file_name)\n"
   ]
  },
  {
   "cell_type": "code",
   "execution_count": 14,
   "metadata": {},
   "outputs": [
    {
     "name": "stdout",
     "output_type": "stream",
     "text": [
      "File already exists. No need to download again.\n",
      "Contents already extracted. No need to extract again.\n"
     ]
    }
   ],
   "source": [
    "# Check if the file already exists\n",
    "if not os.path.exists(file_path):\n",
    "    # Download the file if it doesn't exist\n",
    "#     filepath = training_data.download(file_name=file_path)\n",
    "    print(f\"File downloaded to: {filepath}\")\n",
    "else:\n",
    "    print(\"File already exists. No need to download again.\")\n",
    "\n",
    "# Check if the extracted contents already exist\n",
    "extracted_path = Path(os.path.splitext(file_path)[0])\n",
    "if not os.path.exists(extracted_path):\n",
    "    # Extract the contents of the ZIP file\n",
    "    with zipfile.ZipFile(file_path, 'r') as zip_ref:\n",
    "        zip_ref.extractall(extracted_path)\n",
    "    print(f\"Contents extracted to: {extracted_path}\")\n",
    "else:\n",
    "    print(\"Contents already extracted. No need to extract again.\")\n",
    "\n",
    "data_path = extracted_path"
   ]
  },
  {
   "cell_type": "markdown",
   "metadata": {},
   "source": [
    "# Filter out non RGB Images"
   ]
  },
  {
   "cell_type": "code",
   "execution_count": 15,
   "metadata": {},
   "outputs": [],
   "source": [
    "for image_filepath in glob(os.path.join(data_path, 'images', '**','*.jpg')):\n",
    "    if Image.open(image_filepath).mode != 'RGB':\n",
    "        os.remove(image_filepath)"
   ]
  },
  {
   "cell_type": "markdown",
   "metadata": {},
   "source": [
    "# Prepare data"
   ]
  },
  {
   "cell_type": "code",
   "execution_count": 21,
   "metadata": {},
   "outputs": [
    {
     "name": "stdout",
     "output_type": "stream",
     "text": [
      "Note: you may need to restart the kernel to use updated packages.\n"
     ]
    },
    {
     "name": "stderr",
     "output_type": "stream",
     "text": [
      "ERROR: Could not find a version that satisfies the requirement fastai==1.4.0 (from versions: 0.6, 0.7.0, 1.0.0b7, 1.0.0b8, 1.0.0, 1.0.1, 1.0.2, 1.0.3, 1.0.4, 1.0.5, 1.0.6, 1.0.7, 1.0.9, 1.0.10, 1.0.11, 1.0.12, 1.0.13, 1.0.14, 1.0.15, 1.0.16, 1.0.17, 1.0.18, 1.0.19, 1.0.20, 1.0.21, 1.0.22, 1.0.24, 1.0.25, 1.0.26, 1.0.27, 1.0.28, 1.0.29, 1.0.30, 1.0.31, 1.0.32, 1.0.33, 1.0.34, 1.0.35, 1.0.36, 1.0.36.post1, 1.0.37, 1.0.38, 1.0.39, 1.0.40, 1.0.41, 1.0.42, 1.0.43.post1, 1.0.44, 1.0.46, 1.0.47, 1.0.47.post1, 1.0.48, 1.0.49, 1.0.50, 1.0.50.post1, 1.0.51, 1.0.52, 1.0.53, 1.0.53.post1, 1.0.53.post2, 1.0.53.post3, 1.0.54, 1.0.55, 1.0.57, 1.0.58, 1.0.59, 1.0.60, 1.0.61, 2.0.0, 2.0.2, 2.0.3, 2.0.4, 2.0.5, 2.0.6, 2.0.7, 2.0.8, 2.0.9, 2.0.10, 2.0.11, 2.0.12, 2.0.13, 2.0.14, 2.0.15, 2.0.16, 2.0.17, 2.0.18, 2.0.19, 2.1.0, 2.1.1, 2.1.2, 2.1.3, 2.1.4, 2.1.5, 2.1.6, 2.1.7, 2.1.8, 2.1.9, 2.1.10, 2.2.0, 2.2.1, 2.2.2, 2.2.3, 2.2.4, 2.2.5, 2.2.6, 2.2.7, 2.3.0, 2.3.1, 2.4, 2.4.1, 2.5.0, 2.5.1, 2.5.2, 2.5.3, 2.5.4, 2.5.5, 2.5.6, 2.6.0, 2.6.1, 2.6.2, 2.6.3, 2.7.0, 2.7.1, 2.7.2, 2.7.3, 2.7.4, 2.7.5, 2.7.6, 2.7.7, 2.7.8, 2.7.9, 2.7.10, 2.7.11, 2.7.12, 2.7.13, 2.7.14)\n",
      "ERROR: No matching distribution found for fastai==1.4.0\n"
     ]
    }
   ],
   "source": [
    "# pip install fastai==1.4.0"
   ]
  },
  {
   "cell_type": "code",
   "execution_count": 22,
   "metadata": {},
   "outputs": [],
   "source": [
    " # conda list"
   ]
  },
  {
   "cell_type": "code",
   "execution_count": 17,
   "metadata": {},
   "outputs": [
    {
     "ename": "Exception",
     "evalue": "Traceback (most recent call last):\n\n  File \"c:\\Users\\asche\\anaconda3\\envs\\ARC-GIS-PY3819\\lib\\site-packages\\arcgis\\learn\\_data.py\", line 20, in <module>\n    from fastai.vision.data import imagenet_stats, ImageList, bb_pad_collate, ImageImageList\n\nImportError: cannot import name 'ImageList' from 'fastai.vision.data' (c:\\Users\\asche\\anaconda3\\envs\\ARC-GIS-PY3819\\lib\\site-packages\\fastai\\vision\\data.py)\n \n\nThis module requires fastai, PyTorch, torchvision and scikit-image as its dependencies.\nInstall them using 'conda install -c esri arcgis=1.8.1 pillow scikit-image'\n'conda install -c fastai -c pytorch fastai pytorch=1.4.0 torchvision=0.5.0 tensorflow-gpu=2.1.0'\n'conda install gdal=2.3.3'",
     "output_type": "error",
     "traceback": [
      "\u001b[1;31m---------------------------------------------------------------------------\u001b[0m",
      "\u001b[1;31mException\u001b[0m                                 Traceback (most recent call last)",
      "Cell \u001b[1;32mIn[17], line 1\u001b[0m\n\u001b[1;32m----> 1\u001b[0m data \u001b[38;5;241m=\u001b[39m \u001b[43mprepare_data\u001b[49m\u001b[43m(\u001b[49m\n\u001b[0;32m      2\u001b[0m \u001b[43m    \u001b[49m\u001b[43mpath\u001b[49m\u001b[38;5;241;43m=\u001b[39;49m\u001b[43mdata_path\u001b[49m\u001b[43m,\u001b[49m\n\u001b[0;32m      3\u001b[0m \u001b[43m    \u001b[49m\u001b[43mdataset_type\u001b[49m\u001b[38;5;241;43m=\u001b[39;49m\u001b[38;5;124;43m'\u001b[39;49m\u001b[38;5;124;43mImagenet\u001b[39;49m\u001b[38;5;124;43m'\u001b[39;49m\u001b[43m,\u001b[49m\n\u001b[0;32m      4\u001b[0m \u001b[43m    \u001b[49m\u001b[43mbatch_size\u001b[49m\u001b[38;5;241;43m=\u001b[39;49m\u001b[38;5;241;43m64\u001b[39;49m\u001b[43m,\u001b[49m\n\u001b[0;32m      5\u001b[0m \u001b[43m    \u001b[49m\u001b[43mchip_size\u001b[49m\u001b[38;5;241;43m=\u001b[39;49m\u001b[38;5;241;43m300\u001b[39;49m\n\u001b[0;32m      6\u001b[0m \u001b[43m)\u001b[49m\n",
      "File \u001b[1;32mc:\\Users\\asche\\anaconda3\\envs\\ARC-GIS-PY3819\\lib\\site-packages\\arcgis\\learn\\_data.py:527\u001b[0m, in \u001b[0;36mprepare_data\u001b[1;34m(path, class_mapping, chip_size, val_split_pct, batch_size, transforms, collate_fn, seed, dataset_type, resize_to, **kwargs)\u001b[0m\n\u001b[0;32m    524\u001b[0m not_label_count \u001b[38;5;241m=\u001b[39m [\u001b[38;5;241m0\u001b[39m]\n\u001b[0;32m    526\u001b[0m \u001b[38;5;28;01mif\u001b[39;00m \u001b[38;5;129;01mnot\u001b[39;00m HAS_FASTAI:\n\u001b[1;32m--> 527\u001b[0m     \u001b[43m_raise_fastai_import_error\u001b[49m\u001b[43m(\u001b[49m\u001b[43m)\u001b[49m\n\u001b[0;32m    529\u001b[0m \u001b[38;5;28;01mif\u001b[39;00m \u001b[38;5;28misinstance\u001b[39m(path, \u001b[38;5;28mstr\u001b[39m) \u001b[38;5;129;01mand\u001b[39;00m \u001b[38;5;129;01mnot\u001b[39;00m os\u001b[38;5;241m.\u001b[39mpath\u001b[38;5;241m.\u001b[39mexists(path):\n\u001b[0;32m    530\u001b[0m     \u001b[38;5;28;01mraise\u001b[39;00m \u001b[38;5;167;01mException\u001b[39;00m(\u001b[38;5;124m\"\u001b[39m\u001b[38;5;124mInvalid input path. Please ensure that the input path is correct.\u001b[39m\u001b[38;5;124m\"\u001b[39m)\n",
      "File \u001b[1;32mc:\\Users\\asche\\anaconda3\\envs\\ARC-GIS-PY3819\\lib\\site-packages\\arcgis\\learn\\_data.py:99\u001b[0m, in \u001b[0;36m_raise_fastai_import_error\u001b[1;34m(import_exception)\u001b[0m\n\u001b[0;32m     97\u001b[0m \u001b[38;5;28;01mdef\u001b[39;00m \u001b[38;5;21m_raise_fastai_import_error\u001b[39m(import_exception\u001b[38;5;241m=\u001b[39mimport_exception):\n\u001b[0;32m     98\u001b[0m     installation_steps \u001b[38;5;241m=\u001b[39m get_installation_command()\n\u001b[1;32m---> 99\u001b[0m     \u001b[38;5;28;01mraise\u001b[39;00m \u001b[38;5;167;01mException\u001b[39;00m(\u001b[38;5;124mf\u001b[39m\u001b[38;5;124m\"\"\"\u001b[39m\u001b[38;5;132;01m{\u001b[39;00mimport_exception\u001b[38;5;132;01m}\u001b[39;00m\u001b[38;5;124m \u001b[39m\u001b[38;5;130;01m\\n\u001b[39;00m\u001b[38;5;130;01m\\n\u001b[39;00m\u001b[38;5;124mThis module requires fastai, PyTorch, torchvision and scikit-image as its dependencies.\u001b[39m\u001b[38;5;130;01m\\n\u001b[39;00m\u001b[38;5;132;01m{\u001b[39;00minstallation_steps\u001b[38;5;132;01m}\u001b[39;00m\u001b[38;5;124m\"\"\"\u001b[39m)\n",
      "\u001b[1;31mException\u001b[0m: Traceback (most recent call last):\n\n  File \"c:\\Users\\asche\\anaconda3\\envs\\ARC-GIS-PY3819\\lib\\site-packages\\arcgis\\learn\\_data.py\", line 20, in <module>\n    from fastai.vision.data import imagenet_stats, ImageList, bb_pad_collate, ImageImageList\n\nImportError: cannot import name 'ImageList' from 'fastai.vision.data' (c:\\Users\\asche\\anaconda3\\envs\\ARC-GIS-PY3819\\lib\\site-packages\\fastai\\vision\\data.py)\n \n\nThis module requires fastai, PyTorch, torchvision and scikit-image as its dependencies.\nInstall them using 'conda install -c esri arcgis=1.8.1 pillow scikit-image'\n'conda install -c fastai -c pytorch fastai pytorch=1.4.0 torchvision=0.5.0 tensorflow-gpu=2.1.0'\n'conda install gdal=2.3.3'"
     ]
    }
   ],
   "source": [
    "data = prepare_data(\n",
    "    path=data_path,\n",
    "    dataset_type='Imagenet',\n",
    "    batch_size=64,\n",
    "    chip_size=300\n",
    ")"
   ]
  },
  {
   "cell_type": "markdown",
   "metadata": {},
   "source": [
    "# Visualize a few samples from your training data"
   ]
  },
  {
   "cell_type": "code",
   "execution_count": null,
   "metadata": {},
   "outputs": [
    {
     "ename": "NameError",
     "evalue": "name 'data' is not defined",
     "output_type": "error",
     "traceback": [
      "\u001b[1;31m---------------------------------------------------------------------------\u001b[0m",
      "\u001b[1;31mNameError\u001b[0m                                 Traceback (most recent call last)",
      "Cell \u001b[1;32mIn[16], line 4\u001b[0m\n\u001b[0;32m      1\u001b[0m \u001b[38;5;28;01mimport\u001b[39;00m \u001b[38;5;21;01mmatplotlib\u001b[39;00m\u001b[38;5;21;01m.\u001b[39;00m\u001b[38;5;21;01mpyplot\u001b[39;00m \u001b[38;5;28;01mas\u001b[39;00m \u001b[38;5;21;01mplt\u001b[39;00m\n\u001b[0;32m      3\u001b[0m \u001b[38;5;66;03m# Assuming `data` is a batch of images\u001b[39;00m\n\u001b[1;32m----> 4\u001b[0m images, labels \u001b[38;5;241m=\u001b[39m \u001b[38;5;28mnext\u001b[39m(\u001b[38;5;28miter\u001b[39m(\u001b[43mdata\u001b[49m\u001b[38;5;241m.\u001b[39mtrain_dl))\n\u001b[0;32m      6\u001b[0m \u001b[38;5;66;03m# Display the images\u001b[39;00m\n\u001b[0;32m      7\u001b[0m plt\u001b[38;5;241m.\u001b[39mfigure(figsize\u001b[38;5;241m=\u001b[39m(\u001b[38;5;241m10\u001b[39m, \u001b[38;5;241m5\u001b[39m))\n",
      "\u001b[1;31mNameError\u001b[0m: name 'data' is not defined"
     ]
    }
   ],
   "source": [
    "import matplotlib.pyplot as plt\n",
    "\n",
    "# Assuming `data` is a batch of images\n",
    "images, labels = next(iter(data.train_dl))\n",
    "\n",
    "# Display the images\n",
    "plt.figure(figsize=(10, 5))\n",
    "for i in range(min(len(images), 10)):  # Display up to 10 images\n",
    "    plt.subplot(2, 5, i + 1)\n",
    "    plt.imshow(images[i].permute(1, 2, 0))  # Assuming images are in CHW format\n",
    "    plt.title(f\"Label: {labels[i]}\")\n",
    "    plt.axis('off')\n",
    "plt.tight_layout()\n",
    "plt.show()\n"
   ]
  },
  {
   "cell_type": "code",
   "execution_count": null,
   "metadata": {},
   "outputs": [],
   "source": [
    "data.show_batch(rows=2)"
   ]
  },
  {
   "cell_type": "markdown",
   "metadata": {},
   "source": [
    "# Load model architecture"
   ]
  },
  {
   "cell_type": "code",
   "execution_count": null,
   "metadata": {},
   "outputs": [],
   "source": [
    "model = FeatureClassifier(data, backbone='MobileNetV2', backend='tensorflow')"
   ]
  },
  {
   "cell_type": "markdown",
   "metadata": {},
   "source": [
    "# Find an optimal learning rate"
   ]
  },
  {
   "cell_type": "code",
   "execution_count": null,
   "metadata": {},
   "outputs": [],
   "source": [
    "lr = model.lr_find()"
   ]
  },
  {
   "cell_type": "markdown",
   "metadata": {},
   "source": [
    "# Fit the model"
   ]
  },
  {
   "cell_type": "code",
   "execution_count": null,
   "metadata": {},
   "outputs": [],
   "source": [
    "model.fit(25, lr=lr)"
   ]
  },
  {
   "cell_type": "markdown",
   "metadata": {},
   "source": [
    "# Visualize results in validation set"
   ]
  },
  {
   "cell_type": "code",
   "execution_count": null,
   "metadata": {},
   "outputs": [],
   "source": [
    "model.show_results(rows=4, thresh=0.2)"
   ]
  },
  {
   "cell_type": "markdown",
   "metadata": {},
   "source": [
    "# Save the model"
   ]
  },
  {
   "cell_type": "code",
   "execution_count": null,
   "metadata": {},
   "outputs": [],
   "source": [
    "model.save('Plant-identification-25-tflite', framework=\"tflite\")"
   ]
  }
 ],
 "metadata": {
  "kernelspec": {
   "display_name": "jupyterlab",
   "language": "python",
   "name": "python3"
  },
  "language_info": {
   "codemirror_mode": {
    "name": "ipython",
    "version": 3
   },
   "file_extension": ".py",
   "mimetype": "text/x-python",
   "name": "python",
   "nbconvert_exporter": "python",
   "pygments_lexer": "ipython3",
   "version": "3.8.19"
  }
 },
 "nbformat": 4,
 "nbformat_minor": 2
}
